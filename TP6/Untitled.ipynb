{
 "cells": [
  {
   "cell_type": "code",
   "execution_count": 17,
   "metadata": {},
   "outputs": [],
   "source": [
    "import pandas as pd\n",
    "import seaborn as sb\n",
    "import numpy as np"
   ]
  },
  {
   "cell_type": "code",
   "execution_count": 29,
   "metadata": {},
   "outputs": [],
   "source": [
    "def intervalo_confianza(duraciones_totales):\n",
    "    media = np.mean(duraciones_totales)\n",
    "    valor_z = 2.57\n",
    "    desvio = np.std(duraciones_totales)\n",
    "    n = len(duraciones_totales)\n",
    "    ext_inferior = media - (valor_z * (desvio/(n ** 0.5)))\n",
    "    ext_superior = media + (valor_z * (desvio/(n ** 0.5)))\n",
    "    return round(ext_inferior,2), round(ext_superior,2)"
   ]
  },
  {
   "cell_type": "code",
   "execution_count": 30,
   "metadata": {},
   "outputs": [],
   "source": [
    "def simulacion(cant_minima_stock):\n",
    "    DIASXAÑO= 250\n",
    "    MAX_AÑOS = 30\n",
    "    PRODUCTOS_EN_INVENTARIO = 80\n",
    "    PRODUCCION_DIARIA = 130 #por cada turno\n",
    "    COSTO_STOCK = 70 #por producto por dia\n",
    "\n",
    "    stock_actual = PRODUCTOS_EN_INVENTARIO\n",
    "    contador_turnos_adicionales = 0\n",
    "    contador_costo_stock = 0\n",
    "    turnos_adicionales =[]\n",
    "    costos_anuales = []\n",
    "    turnos_diario = 0\n",
    "    costo_stock_diario = 0\n",
    "\n",
    "    for i in range(MAX_AÑOS): \n",
    "        turnos_diario = 0\n",
    "        costo_stock_diario = 0\n",
    "        for j in range(DIASXAÑO):\n",
    "            contador_turnos_adicionales = 0\n",
    "            contador_costo_stock = 0\n",
    "            stock_actual = stock_actual + PRODUCCION_DIARIA\n",
    "            demanda_diaria = round(np.random.normal(loc=150, scale=25))\n",
    "            stock_actual = stock_actual - demanda_diaria\n",
    "            if (stock_actual <= cant_minima_stock):\n",
    "                contador_turnos_adicionales+=1\n",
    "                stock_actual = stock_actual + PRODUCCION_DIARIA\n",
    "            # finaliza el dia\n",
    "            turnos_diario= turnos_diario + contador_turnos_adicionales\n",
    "            costo_stock_diario = stock_actual * COSTO_STOCK\n",
    "        # finaliza el año\n",
    "        turnos_adicionales.append(turnos_diario)\n",
    "        costos_anuales.append(costo_stock_diario)\n",
    "\n",
    "    return turnos_adicionales, costos_anuales"
   ]
  },
  {
   "cell_type": "markdown",
   "metadata": {},
   "source": [
    "### Resultado para 50 unidades de stock minimo"
   ]
  },
  {
   "cell_type": "code",
   "execution_count": 45,
   "metadata": {},
   "outputs": [],
   "source": [
    "turnos_adicionales, costos_anuales = simulacion(50)"
   ]
  },
  {
   "cell_type": "code",
   "execution_count": 46,
   "metadata": {},
   "outputs": [
    {
     "name": "stdout",
     "output_type": "stream",
     "text": [
      "El promedio de costo anual es: $9002.0\n",
      "El intervalo de confianza del 99% para los valores de costos anuales es: (7600.94, 10403.06)\n",
      "EL promedio de turnos adicionales anuales es: 38.23 \n",
      "El intervalo de confianza del 99% para los valores de turnos es: (36.9, 39.57)\n"
     ]
    }
   ],
   "source": [
    "print(f\"El promedio de costo anual es: ${round((sum(x for x in costos_anuales)/len(costos_anuales)),2)}\")\n",
    "print(f\"El intervalo de confianza del 99% para los valores de costos anuales es: {intervalo_confianza(costos_anuales)}\")\n",
    "\n",
    "print(f\"EL promedio de turnos adicionales anuales es: {round((sum(x for x in turnos_adicionales)/len(turnos_adicionales)),2)} \")\n",
    "print(f\"El intervalo de confianza del 99% para los valores de turnos es: {intervalo_confianza(turnos_adicionales)}\")"
   ]
  },
  {
   "cell_type": "markdown",
   "metadata": {},
   "source": [
    "### Resultado para 60 unidades de stock minimo"
   ]
  },
  {
   "cell_type": "code",
   "execution_count": 47,
   "metadata": {},
   "outputs": [],
   "source": [
    "turnos_adicionales, costos_anuales = simulacion(60)"
   ]
  },
  {
   "cell_type": "code",
   "execution_count": 48,
   "metadata": {
    "scrolled": false
   },
   "outputs": [
    {
     "name": "stdout",
     "output_type": "stream",
     "text": [
      "El promedio de costo anual es: $9543.33\n",
      "El intervalo de confianza del 99% para los valores de costos anuales es: (8316.89, 10769.78)\n",
      "EL promedio de turnos adicionales anuales es: 37.9 \n",
      "El intervalo de confianza del 99% para los valores de turnos es: (36.13, 39.67)\n"
     ]
    }
   ],
   "source": [
    "print(f\"El promedio de costo anual es: ${round((sum(x for x in costos_anuales)/len(costos_anuales)),2)}\")\n",
    "print(f\"El intervalo de confianza del 99% para los valores de costos anuales es: {intervalo_confianza(costos_anuales)}\")\n",
    "\n",
    "print(f\"EL promedio de turnos adicionales anuales es: {round((sum(x for x in turnos_adicionales)/len(turnos_adicionales)),2)} \")\n",
    "print(f\"El intervalo de confianza del 99% para los valores de turnos es: {intervalo_confianza(turnos_adicionales)}\")"
   ]
  },
  {
   "cell_type": "markdown",
   "metadata": {},
   "source": [
    "### Resultado para 70 unidades de stock minimo"
   ]
  },
  {
   "cell_type": "code",
   "execution_count": 49,
   "metadata": {},
   "outputs": [],
   "source": [
    "turnos_adicionales, costos_anuales = simulacion(70)"
   ]
  },
  {
   "cell_type": "code",
   "execution_count": 50,
   "metadata": {},
   "outputs": [
    {
     "name": "stdout",
     "output_type": "stream",
     "text": [
      "El promedio de costo anual es: $10381.0\n",
      "El intervalo de confianza del 99% para los valores de costos anuales es: (8923.87, 11838.13)\n",
      "EL promedio de turnos adicionales anuales es: 38.33 \n",
      "El intervalo de confianza del 99% para los valores de turnos es: (37.14, 39.52)\n"
     ]
    }
   ],
   "source": [
    "print(f\"El promedio de costo anual es: ${round((sum(x for x in costos_anuales)/len(costos_anuales)),2)}\")\n",
    "print(f\"El intervalo de confianza del 99% para los valores de costos anuales es: {intervalo_confianza(costos_anuales)}\")\n",
    "\n",
    "print(f\"EL promedio de turnos adicionales anuales es: {round((sum(x for x in turnos_adicionales)/len(turnos_adicionales)),2)} \")\n",
    "print(f\"El intervalo de confianza del 99% para los valores de turnos es: {intervalo_confianza(turnos_adicionales)}\")"
   ]
  },
  {
   "cell_type": "code",
   "execution_count": null,
   "metadata": {},
   "outputs": [],
   "source": []
  }
 ],
 "metadata": {
  "kernelspec": {
   "display_name": "Python 3",
   "language": "python",
   "name": "python3"
  },
  "language_info": {
   "codemirror_mode": {
    "name": "ipython",
    "version": 3
   },
   "file_extension": ".py",
   "mimetype": "text/x-python",
   "name": "python",
   "nbconvert_exporter": "python",
   "pygments_lexer": "ipython3",
   "version": "3.6.9"
  }
 },
 "nbformat": 4,
 "nbformat_minor": 2
}
