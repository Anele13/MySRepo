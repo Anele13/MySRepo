{
 "cells": [
  {
   "cell_type": "code",
   "execution_count": 51,
   "metadata": {},
   "outputs": [],
   "source": [
    "import pandas as pd\n",
    "import seaborn as sb\n",
    "import numpy as np"
   ]
  },
  {
   "cell_type": "markdown",
   "metadata": {},
   "source": [
    "                                               PUNTO 1"
   ]
  },
  {
   "cell_type": "code",
   "execution_count": 52,
   "metadata": {},
   "outputs": [],
   "source": [
    "def intervalo_confianza(duraciones_totales):\n",
    "    media = np.mean(duraciones_totales)\n",
    "    valor_z = 2.57\n",
    "    desvio = np.std(duraciones_totales)\n",
    "    n = len(duraciones_totales)\n",
    "    ext_inferior = media - (valor_z * (desvio/(n ** 0.5)))\n",
    "    ext_superior = media + (valor_z * (desvio/(n ** 0.5)))\n",
    "    return round(ext_inferior,2), round(ext_superior,2)"
   ]
  },
  {
   "cell_type": "code",
   "execution_count": 53,
   "metadata": {},
   "outputs": [],
   "source": [
    "def simulacion(cant_minima_stock):\n",
    "    DIASXAÑO= 250\n",
    "    MAX_AÑOS = 30\n",
    "    PRODUCTOS_EN_INVENTARIO = 80\n",
    "    PRODUCCION_DIARIA = 130 #por cada turno\n",
    "    COSTO_STOCK = 70 #por producto por dia\n",
    "\n",
    "    stock_actual = PRODUCTOS_EN_INVENTARIO\n",
    "    contador_turnos_adicionales = 0\n",
    "    contador_costo_stock = 0\n",
    "    turnos_adicionales =[]\n",
    "    costos_anuales = []\n",
    "    turnos_diario = 0\n",
    "    costo_stock_diario = 0\n",
    "\n",
    "    for i in range(MAX_AÑOS): \n",
    "        turnos_diario = 0\n",
    "        costo_stock_diario = 0\n",
    "        for j in range(DIASXAÑO):\n",
    "            contador_turnos_adicionales = 0\n",
    "            contador_costo_stock = 0\n",
    "            stock_actual = stock_actual + PRODUCCION_DIARIA\n",
    "            demanda_diaria = round(np.random.normal(loc=150, scale=25))\n",
    "            stock_actual = stock_actual - demanda_diaria\n",
    "            if (stock_actual <= cant_minima_stock):\n",
    "                contador_turnos_adicionales+=1\n",
    "                stock_actual = stock_actual + PRODUCCION_DIARIA\n",
    "            # finaliza el dia\n",
    "            turnos_diario= turnos_diario + contador_turnos_adicionales\n",
    "            costo_stock_diario = stock_actual * COSTO_STOCK\n",
    "        # finaliza el año\n",
    "        turnos_adicionales.append(turnos_diario)\n",
    "        costos_anuales.append(costo_stock_diario)\n",
    "\n",
    "    return turnos_adicionales, costos_anuales"
   ]
  },
  {
   "cell_type": "markdown",
   "metadata": {},
   "source": [
    "### Resultado para 50 unidades de stock minimo"
   ]
  },
  {
   "cell_type": "code",
   "execution_count": 54,
   "metadata": {},
   "outputs": [],
   "source": [
    "turnos_adicionales, costos_anuales = simulacion(50)"
   ]
  },
  {
   "cell_type": "code",
   "execution_count": 55,
   "metadata": {},
   "outputs": [
    {
     "name": "stdout",
     "output_type": "stream",
     "text": [
      "El promedio de costo anual es: $8565.67\n",
      "El intervalo de confianza del 99% para los valores de costos anuales es: (7616.36, 9514.98)\n",
      "EL promedio de turnos adicionales anuales es: 38.9 \n",
      "El intervalo de confianza del 99% para los valores de turnos es: (37.66, 40.14)\n"
     ]
    }
   ],
   "source": [
    "print(f\"El promedio de costo anual es: ${round((sum(x for x in costos_anuales)/len(costos_anuales)),2)}\")\n",
    "print(f\"El intervalo de confianza del 99% para los valores de costos anuales es: {intervalo_confianza(costos_anuales)}\")\n",
    "\n",
    "print(f\"EL promedio de turnos adicionales anuales es: {round((sum(x for x in turnos_adicionales)/len(turnos_adicionales)),2)} \")\n",
    "print(f\"El intervalo de confianza del 99% para los valores de turnos es: {intervalo_confianza(turnos_adicionales)}\")"
   ]
  },
  {
   "cell_type": "markdown",
   "metadata": {},
   "source": [
    "### Resultado para 60 unidades de stock minimo"
   ]
  },
  {
   "cell_type": "code",
   "execution_count": 60,
   "metadata": {},
   "outputs": [],
   "source": [
    "turnos_adicionales, costos_anuales = simulacion(60)"
   ]
  },
  {
   "cell_type": "code",
   "execution_count": 61,
   "metadata": {
    "scrolled": false
   },
   "outputs": [
    {
     "name": "stdout",
     "output_type": "stream",
     "text": [
      "El promedio de costo anual es: $9230.67\n",
      "El intervalo de confianza del 99% para los valores de costos anuales es: (7905.13, 10556.21)\n",
      "EL promedio de turnos adicionales anuales es: 39.07 \n",
      "El intervalo de confianza del 99% para los valores de turnos es: (37.78, 40.35)\n"
     ]
    }
   ],
   "source": [
    "print(f\"El promedio de costo anual es: ${round((sum(x for x in costos_anuales)/len(costos_anuales)),2)}\")\n",
    "print(f\"El intervalo de confianza del 99% para los valores de costos anuales es: {intervalo_confianza(costos_anuales)}\")\n",
    "\n",
    "print(f\"EL promedio de turnos adicionales anuales es: {round((sum(x for x in turnos_adicionales)/len(turnos_adicionales)),2)} \")\n",
    "print(f\"El intervalo de confianza del 99% para los valores de turnos es: {intervalo_confianza(turnos_adicionales)}\")"
   ]
  },
  {
   "cell_type": "markdown",
   "metadata": {},
   "source": [
    "### Resultado para 70 unidades de stock minimo"
   ]
  },
  {
   "cell_type": "code",
   "execution_count": 64,
   "metadata": {},
   "outputs": [],
   "source": [
    "turnos_adicionales, costos_anuales = simulacion(70)"
   ]
  },
  {
   "cell_type": "code",
   "execution_count": 65,
   "metadata": {},
   "outputs": [
    {
     "name": "stdout",
     "output_type": "stream",
     "text": [
      "El promedio de costo anual es: $10430.0\n",
      "El intervalo de confianza del 99% para los valores de costos anuales es: (9403.22, 11456.78)\n",
      "EL promedio de turnos adicionales anuales es: 39.37 \n",
      "El intervalo de confianza del 99% para los valores de turnos es: (37.88, 40.86)\n"
     ]
    }
   ],
   "source": [
    "print(f\"El promedio de costo anual es: ${round((sum(x for x in costos_anuales)/len(costos_anuales)),2)}\")\n",
    "print(f\"El intervalo de confianza del 99% para los valores de costos anuales es: {intervalo_confianza(costos_anuales)}\")\n",
    "\n",
    "print(f\"EL promedio de turnos adicionales anuales es: {round((sum(x for x in turnos_adicionales)/len(turnos_adicionales)),2)} \")\n",
    "print(f\"El intervalo de confianza del 99% para los valores de turnos es: {intervalo_confianza(turnos_adicionales)}\")"
   ]
  },
  {
   "cell_type": "code",
   "execution_count": 68,
   "metadata": {},
   "outputs": [
    {
     "data": {
      "text/plain": [
       "<matplotlib.axes._subplots.AxesSubplot at 0x7fcf0ae1df60>"
      ]
     },
     "execution_count": 68,
     "metadata": {},
     "output_type": "execute_result"
    },
    {
     "data": {
      "image/png": "[encoded data removed]",
      "text/plain": [
       "<Figure size 432x288 with 1 Axes>"
      ]
     },
     "metadata": {
      "needs_background": "light"
     },
     "output_type": "display_data"
    }
   ],
   "source": [
    "#sb.distplot(turnos_adicionales)\n",
    "sb.distplot(costos_anuales)"
   ]
  },
  {
   "cell_type": "code",
   "execution_count": null,
   "metadata": {},
   "outputs": [],
   "source": []
  },
  {
   "cell_type": "markdown",
   "metadata": {},
   "source": [
    "                                            PUNTO 2"
   ]
  },
  {
   "cell_type": "code",
   "execution_count": 73,
   "metadata": {},
   "outputs": [],
   "source": [
    "def getValorAleatorio(nombre):\n",
    "    if nombre == \"RETARDO_PAPELEO\":\n",
    "        return 1 #todo agrgar la tabla de probabilidades\n",
    "    elif nombre == \"RETARDO_PEDIDO\":\n",
    "        return 1 #todo\n",
    "    else: #cantidad demanda por dia\n",
    "        return 1 #TODO"
   ]
  },
  {
   "cell_type": "code",
   "execution_count": 88,
   "metadata": {},
   "outputs": [],
   "source": [
    "class Evento():\n",
    "    def __init__(self,nombre, arribo, duracion):\n",
    "        self.id = _id\n",
    "        self.nombre = nombre\n",
    "        self.arribo = arribo\n",
    "        self.duracion = 0\n",
    "        self.tiempo_fin = arribo + duracion\n",
    "        \n",
    "    def __repr__(self):\n",
    "        return f\"{self.id} - {self.nombre} - arribo: {self.arribo} - duracion: {self.duracion} - termina: {self.tiempo_fin}\\n\"\n",
    "    \n",
    "    \n",
    "class EventoDemanda(Evento):\n",
    "    def __init__(self, **kwargs):\n",
    "        super(Evento, self).__init__(**kwargs)\n",
    "        self.demanda = getValorAleatorio(\"DEMANDA\")\n",
    "        \n",
    "    def __repr__(self):\n",
    "        return f\"{self.id} - {self.nombre} a {self.evento_inicio.id} - inicia: {self.arribo} - duracion: {self.duracion} - termina: {self.tiempo_fin}\\n\""
   ]
  },
  {
   "cell_type": "code",
   "execution_count": 89,
   "metadata": {},
   "outputs": [],
   "source": [
    "def agregarEventoAFel(evento, fel):\n",
    "    \"\"\"\n",
    "    Esta funcion agrega eventos al diccionario fel. Si el diccionario\n",
    "    tiene eventos en la lista, agrega el evento a la lista existente.\n",
    "    la clave de la fel es el tiempo de llegada del evento que es un entero\n",
    "    \"\"\"\n",
    "    lista_eventos = fel.get(evento.arribo, None)\n",
    "    if lista_eventos:\n",
    "        fel[evento.tiempo_fin].append(evento) #agrego el evento a la lista de eventos existente\n",
    "    else:\n",
    "        fel[evento.tiempo_fin]=[evento] #agrego la lista de eventos para ese momento de reloj en la fel"
   ]
  },
  {
   "cell_type": "code",
   "execution_count": 90,
   "metadata": {},
   "outputs": [
    {
     "ename": "TypeError",
     "evalue": "object.__init__() takes no parameters",
     "output_type": "error",
     "traceback": [
      "\u001b[0;31m---------------------------------------------------------------------------\u001b[0m",
      "\u001b[0;31mTypeError\u001b[0m                                 Traceback (most recent call last)",
      "\u001b[0;32m<ipython-input-90-6dcf1abd2585>\u001b[0m in \u001b[0;36m<module>\u001b[0;34m()\u001b[0m\n\u001b[1;32m     17\u001b[0m \u001b[0;34m\u001b[0m\u001b[0m\n\u001b[1;32m     18\u001b[0m \u001b[0;32mfor\u001b[0m \u001b[0mi\u001b[0m \u001b[0;32min\u001b[0m \u001b[0mrange\u001b[0m\u001b[0;34m(\u001b[0m\u001b[0mTIEMPO_SIMULACION\u001b[0m\u001b[0;34m)\u001b[0m\u001b[0;34m:\u001b[0m\u001b[0;34m\u001b[0m\u001b[0;34m\u001b[0m\u001b[0m\n\u001b[0;32m---> 19\u001b[0;31m     \u001b[0me\u001b[0m \u001b[0;34m=\u001b[0m \u001b[0mEventoDemanda\u001b[0m\u001b[0;34m(\u001b[0m\u001b[0mnombre\u001b[0m\u001b[0;34m=\u001b[0m\u001b[0;34m\"DEMANDA\"\u001b[0m\u001b[0;34m,\u001b[0m \u001b[0marribo\u001b[0m\u001b[0;34m=\u001b[0m\u001b[0mreloj\u001b[0m\u001b[0;34m,\u001b[0m \u001b[0mduracion\u001b[0m\u001b[0;34m=\u001b[0m\u001b[0;36m0\u001b[0m\u001b[0;34m)\u001b[0m\u001b[0;34m\u001b[0m\u001b[0;34m\u001b[0m\u001b[0m\n\u001b[0m\u001b[1;32m     20\u001b[0m     \u001b[0magregarEventoAFel\u001b[0m\u001b[0;34m(\u001b[0m\u001b[0mfe\u001b[0m\u001b[0;34m,\u001b[0m \u001b[0me\u001b[0m\u001b[0;34m)\u001b[0m\u001b[0;34m\u001b[0m\u001b[0;34m\u001b[0m\u001b[0m\n\u001b[1;32m     21\u001b[0m     \u001b[0meventos_de_hoy\u001b[0m \u001b[0;34m=\u001b[0m \u001b[0mfel\u001b[0m\u001b[0;34m[\u001b[0m\u001b[0mreloj\u001b[0m\u001b[0;34m]\u001b[0m\u001b[0;34m\u001b[0m\u001b[0;34m\u001b[0m\u001b[0m\n",
      "\u001b[0;32m<ipython-input-88-98f2a0bad4db>\u001b[0m in \u001b[0;36m__init__\u001b[0;34m(self, **kwargs)\u001b[0m\n\u001b[1;32m     13\u001b[0m \u001b[0;32mclass\u001b[0m \u001b[0mEventoDemanda\u001b[0m\u001b[0;34m(\u001b[0m\u001b[0mEvento\u001b[0m\u001b[0;34m)\u001b[0m\u001b[0;34m:\u001b[0m\u001b[0;34m\u001b[0m\u001b[0;34m\u001b[0m\u001b[0m\n\u001b[1;32m     14\u001b[0m     \u001b[0;32mdef\u001b[0m \u001b[0m__init__\u001b[0m\u001b[0;34m(\u001b[0m\u001b[0mself\u001b[0m\u001b[0;34m,\u001b[0m \u001b[0;34m**\u001b[0m\u001b[0mkwargs\u001b[0m\u001b[0;34m)\u001b[0m\u001b[0;34m:\u001b[0m\u001b[0;34m\u001b[0m\u001b[0;34m\u001b[0m\u001b[0m\n\u001b[0;32m---> 15\u001b[0;31m         \u001b[0msuper\u001b[0m\u001b[0;34m(\u001b[0m\u001b[0mEvento\u001b[0m\u001b[0;34m,\u001b[0m \u001b[0mself\u001b[0m\u001b[0;34m)\u001b[0m\u001b[0;34m.\u001b[0m\u001b[0m__init__\u001b[0m\u001b[0;34m(\u001b[0m\u001b[0;34m**\u001b[0m\u001b[0mkwargs\u001b[0m\u001b[0;34m)\u001b[0m\u001b[0;34m\u001b[0m\u001b[0;34m\u001b[0m\u001b[0m\n\u001b[0m\u001b[1;32m     16\u001b[0m         \u001b[0mself\u001b[0m\u001b[0;34m.\u001b[0m\u001b[0mdemanda\u001b[0m \u001b[0;34m=\u001b[0m \u001b[0mgetValorAleatorio\u001b[0m\u001b[0;34m(\u001b[0m\u001b[0;34m\"DEMANDA\"\u001b[0m\u001b[0;34m)\u001b[0m\u001b[0;34m\u001b[0m\u001b[0;34m\u001b[0m\u001b[0m\n\u001b[1;32m     17\u001b[0m \u001b[0;34m\u001b[0m\u001b[0m\n",
      "\u001b[0;31mTypeError\u001b[0m: object.__init__() takes no parameters"
     ]
    }
   ],
   "source": [
    "mantenimiento = 450 #por unidad por dia\n",
    "precio_pedido = 3800 #por orden\n",
    "precio_faltante = 625 #por unidad\n",
    "stock = 1500 #unidades a un costo de $950\n",
    "cantidad_orden = 100\n",
    "punto_reorden = 15\n",
    "TIEMPO_SIMULACION = 365 #Son dias equivalentes a un año\n",
    "reloj = 0\n",
    "delta = 1\n",
    "fel = {}\n",
    "\n",
    "#calculos\n",
    "costo_por_faltante_diario = 0\n",
    "costo_por_pedido_diario = 0\n",
    "costo_por_stock_diario = 0\n",
    "costo_mantenimiento_diario = 0\n",
    "\n",
    "for i in range(TIEMPO_SIMULACION):\n",
    "    e = EventoDemanda(nombre=\"DEMANDA\", arribo=reloj, duracion=0)\n",
    "    agregarEventoAFel(fe, e)\n",
    "    eventos_de_hoy = fel[reloj]  \n",
    "    \n",
    "    costo_por_faltante = 0\n",
    "    costo_por_pedido = 0\n",
    "    costo_por_stock = 0\n",
    "    costo_mantenimiento = 0\n",
    "\n",
    "    for evento in eventos_de_hoy:\n",
    "        \n",
    "        if evento.nombre == \"DEMANDA\":\n",
    "            if (evento.demanda <= stock): #checkea si tengo stock para el pedido\n",
    "                e = Evento(nombre=\"RETARDO_PAPELEO\",\n",
    "                                         arribo=reloj,\n",
    "                                         duracion=getDuracion(\"RETARDO_PAPELEO\"))\n",
    "                agregarEventoAFel(fe,e)\n",
    "                stock_actual = stock_actual - evento.demanda\n",
    "                \n",
    "            else: #Pedir mas producto\n",
    "                costo_por_faltante_diario = abs(stock-evento.demanda) * precio_faltante\n",
    "                e = Evento(nombre=\"RETARDO_PEDIDO\",\n",
    "                                         arribo=reloj,\n",
    "                                         duracion=getDuracion(\"RETARDO_PEDIDO\"))\n",
    "                agregarEventoAFel(fe,e)\n",
    "                costo_por_pedido_diario = costo_por_pedido_diario + precio_pedido\n",
    "                \n",
    "        elif evento.nombre == \"RETARDO_PEDIDO\": #indica que llego un pedido solicitado con x cantidad\n",
    "            stock = stock + evento.cantidadPedida\n",
    "            \n",
    "        \n",
    "        elif evento.nombre == \"RETARDO_PAPELEO\":\n",
    "            # entrego el producto.\n",
    "            # aca puedo ver cuanto \"tardó\" un pedido si hago evento.tiempo_fin - evento.arribo\n",
    "            pass\n",
    "        \n",
    "    costo_mantenimiento = costo_mantenimiento + (stock * mantenimiento)\n",
    "    reloj += delta\n",
    "\n",
    "    #En este punto puedo ver:\n",
    "    #- Costo por mantenimiento diario del stock\n",
    "    #- Costo por pedidos realizados\n",
    "    #- Costos por faltantes diarios"
   ]
  },
  {
   "cell_type": "code",
   "execution_count": null,
   "metadata": {},
   "outputs": [],
   "source": []
  }
 ],
 "metadata": {
  "kernelspec": {
   "display_name": "Python 3",
   "language": "python",
   "name": "python3"
  },
  "language_info": {
   "codemirror_mode": {
    "name": "ipython",
    "version": 3
   },
   "file_extension": ".py",
   "mimetype": "text/x-python",
   "name": "python",
   "nbconvert_exporter": "python",
   "pygments_lexer": "ipython3",
   "version": "3.6.9"
  }
 },
 "nbformat": 4,
 "nbformat_minor": 2
}
