{
 "cells": [
  {
   "cell_type": "markdown",
   "metadata": {},
   "source": [
    "### Punto 1.f\n",
    "\n",
    "En este caso con el lenguaje python voy a simular el modelo del practico nro. 2 en el cual se intenta modelar la planificación de un proyecto teniendo en cuenta las tareas que se llevan a cabo dentro del mismo.\n",
    "\n",
    "Algunas asunciones por cuestiones de simplicidad:\n",
    "\n",
    "- **El modelo contara con 5 actividades con duraciones estimadas medidas en dias:**\n",
    "    - Obtención y priorización de requerimientos. Duracion Minima: 15, Duracion Maxima: 30.\n",
    "    - Diseño y construcción del modelo de datos. Duracion Minima: 30, Duracion Maxima: 120.\n",
    "    - Implementación de requerimientos. Duracion Minima: 120, Duracion Maxima: 200.\n",
    "    - Testing. Duracion Minima: 60, Duracion Maxima: 120 .\n",
    "    - Documentación del usuario e implementación. Duracion Minima: 30, Duracion Maxima: 60.\n",
    "    \n",
    "- **Las actividades se ordenan secuencialmente y no hay actividades en paralelo.**\n",
    "- **Al tener una duracion minima y maxima, las actividades tienen una duracion estimada obtenida de una distribucion uniforme.**"
   ]
  },
  {
   "cell_type": "code",
   "execution_count": 5,
   "metadata": {},
   "outputs": [],
   "source": [
    "import numpy as np"
   ]
  },
  {
   "cell_type": "code",
   "execution_count": 12,
   "metadata": {},
   "outputs": [],
   "source": [
    "class Actividad():\n",
    "    \"\"\"\n",
    "    Modela una actividad dentro del modelo de simulacion\n",
    "    con una descripcion, una duracion minima, una duracion maxima\n",
    "    y una duracion real establecida por una distribucion uniforme.\n",
    "    Las duraciones de la actividad se toman como si fuesen dias.\n",
    "    \"\"\"\n",
    "    def __init__(self, nombre, duracionMin, duracionMax):\n",
    "        self.nombre = nombre\n",
    "        self.duracion_minima = duracionMin\n",
    "        self.duracion_maxima = duracionMax\n",
    "        self.duracion = self.getDuracionEstimada()\n",
    "    \n",
    "    def getDuracionEstimada(self):\n",
    "        return round(np.random.uniform(self.duracion_minima, self.duracion_maxima))"
   ]
  },
  {
   "cell_type": "code",
   "execution_count": 13,
   "metadata": {},
   "outputs": [],
   "source": [
    "class Simulacion():\n",
    "    \"\"\"\n",
    "    Modela la simulacion computacional. Crea actividades dentro\n",
    "    del modelo de simulacion, les asigna dias de duracion minima \n",
    "    y maxima y establece el tiempo que tomara cada una en realizarse.\n",
    "    \"\"\"\n",
    "    def __init__(self):\n",
    "        self.lista_actividades = []\n",
    "        self.lista_resultados = []\n",
    "\n",
    "    def crearActividades(self):\n",
    "        self.lista_actividades.append(Actividad('Obtención y priorización de requerimientos', 15, 30))\n",
    "        self.lista_actividades.append(Actividad('Diseño y construcción del modelo de datos', 30, 120))\n",
    "        self.lista_actividades.append(Actividad('Implementación de requerimientos', 120, 200))\n",
    "        self.lista_actividades.append(Actividad('Testing', 60, 120))\n",
    "        self.lista_actividades.append(Actividad('Documentación del usuario e implementación', 30, 60))\n",
    "\n",
    "    def start(self):\n",
    "        self.crearActividades()\n",
    "        for actividad in self.lista_actividades:\n",
    "            self.lista_resultados.append(F'Etapa: {actividad.nombre}. Duracion estimada: {actividad.duracion} dias ')\n",
    "\n",
    "    def getResult(self):\n",
    "        for resultado in self.lista_resultados:\n",
    "            print(resultado)"
   ]
  },
  {
   "cell_type": "markdown",
   "metadata": {},
   "source": [
    "- **Iniciamos la simulacion**"
   ]
  },
  {
   "cell_type": "code",
   "execution_count": 14,
   "metadata": {},
   "outputs": [],
   "source": [
    "s = Simulacion()\n",
    "s.start()"
   ]
  },
  {
   "cell_type": "markdown",
   "metadata": {},
   "source": [
    "- **Obtenemos resultados**"
   ]
  },
  {
   "cell_type": "code",
   "execution_count": 15,
   "metadata": {},
   "outputs": [
    {
     "name": "stdout",
     "output_type": "stream",
     "text": [
      "Etapa: Obtención y priorización de requerimientos. Duracion estimada: 24 dias \n",
      "Etapa: Diseño y construcción del modelo de datos. Duracion estimada: 34 dias \n",
      "Etapa: Implementación de requerimientos. Duracion estimada: 126 dias \n",
      "Etapa: Testing. Duracion estimada: 75 dias \n",
      "Etapa: Documentación del usuario e implementación. Duracion estimada: 59 dias \n"
     ]
    }
   ],
   "source": [
    "s.getResult()"
   ]
  },
  {
   "cell_type": "markdown",
   "metadata": {},
   "source": [
    "### Resultados\n",
    "\n",
    "Con esta simulacion es posible resolver algunos de los planteamientos iniciales del modelo como:\n",
    "    \n",
    "- Obtencion de la duracion de las tareas.\n",
    "- Obtencion de tareas que tardan mas en ejecutarse.\n",
    "- Duracion minima estimada del proyecto (en este caso 318 dias ~ 11 meses)\n",
    "\n",
    "Ademas se observa que en caso de agregarse mas tareas o cambiar la duracion de las mismas la duracion del proyecto se ve afectada."
   ]
  },
  {
   "cell_type": "code",
   "execution_count": null,
   "metadata": {},
   "outputs": [],
   "source": []
  }
 ],
 "metadata": {
  "kernelspec": {
   "display_name": "Python 3",
   "language": "python",
   "name": "python3"
  },
  "language_info": {
   "codemirror_mode": {
    "name": "ipython",
    "version": 3
   },
   "file_extension": ".py",
   "mimetype": "text/x-python",
   "name": "python",
   "nbconvert_exporter": "python",
   "pygments_lexer": "ipython3",
   "version": "3.6.9"
  }
 },
 "nbformat": 4,
 "nbformat_minor": 2
}
