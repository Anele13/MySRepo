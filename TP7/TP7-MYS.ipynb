{
 "cells": [
  {
   "cell_type": "code",
   "execution_count": 25,
   "metadata": {},
   "outputs": [],
   "source": [
    "import numpy as np\n",
    "import seaborn as sb"
   ]
  },
  {
   "cell_type": "code",
   "execution_count": 26,
   "metadata": {},
   "outputs": [],
   "source": [
    "class Empleado():\n",
    "    \"\"\"\n",
    "    Modela una actividad dentro del modelo de simulacion\n",
    "    con una descripcion, una duracion minima, una duracion maxima\n",
    "    y una duracion real establecida por una distribucion uniforme.\n",
    "    \"\"\"\n",
    "    def __init__(self, tipo):\n",
    "        if tipo == 1:\n",
    "            self.nombre = \"Empleado tipo 1\"\n",
    "            self.tiempoAtencion = np.random.normal(18,4) #Normal de media 18 minutos y Desv.est. de 4 minutos.\n",
    "        elif tipo == 2:\n",
    "            self.nombre = \"Empleado tipo 2\"\n",
    "            self.tiempoAtencion = np.random.exponential(15) #Exponencial con tiempo promedio de 15 minutos. \n",
    "        elif tipo == 3:\n",
    "            self.nombre = \"Empleado tipo 3\"\n",
    "            self.tiempoAtencion = np.random.exponential(16) #Exponencial con promedio de 16 minutos.\n",
    "        else:\n",
    "            self.nombre = \"Empleado tipo 4\"\n",
    "            self.tiempoAtencion = np.random.normal(14,3) #Normal de media 14 minutos y desv.est. de 3 minutos.\n",
    "            \n"
   ]
  },
  {
   "cell_type": "code",
   "execution_count": 27,
   "metadata": {},
   "outputs": [],
   "source": [
    "class Camion():\n",
    "    def __init__(self, id_camion):\n",
    "        self.id = id_camion\n",
    "        self.tiempoLlegada = np.random.exponential(15)"
   ]
  },
  {
   "cell_type": "code",
   "execution_count": 28,
   "metadata": {},
   "outputs": [],
   "source": [
    "class Surtidor():\n",
    "    def __init__(self, tipo):\n",
    "        self.ocupado = False\n",
    "        self.tiempoOcupacion = 0\n",
    "        self.tiempoAtencion = Empleado(tipo).tiempoAtencion\n",
    "        \n",
    "    def marcarLibre(self):\n",
    "        self.ocupado = False\n",
    "    \n",
    "    def marcarOcupado(self):\n",
    "        self.ocupado = True\n",
    "    \n",
    "    def actualizarPorcentajeOcupacion(self, reloj):\n",
    "        self.tiempoOcupacion = self.tiempoOcupacion + reloj"
   ]
  },
  {
   "cell_type": "code",
   "execution_count": 29,
   "metadata": {},
   "outputs": [],
   "source": [
    "class Evento():\n",
    "    \"\"\"\n",
    "    nombre = puede ser ARRIBO_CAMION, FIN_ATENCION\n",
    "    objeto = puede ser un Camion o un Surtidor\n",
    "    duracion = duracion del evento\n",
    "    \"\"\"\n",
    "    def __init__(self, nombre,objeto, duracion):\n",
    "        self.nombre = nombre\n",
    "        self.duracion = duracion\n",
    "        self.objeto = objeto     "
   ]
  },
  {
   "cell_type": "code",
   "execution_count": 30,
   "metadata": {},
   "outputs": [],
   "source": [
    "def inicializarModelo():\n",
    "    fel = []\n",
    "    lista_surtidores = []\n",
    "    cantidad = 24 #24 horas\n",
    "    \n",
    "    for id_camion in range(cantidad): \n",
    "        camion = Camion(id_camion)\n",
    "        fel.append(Evento(\"ARRIBO_CAMION\",camion, camion.tiempoLlegada))\n",
    "    \n",
    "    for i in range(1,5):\n",
    "        lista_surtidores.append(Surtidor(i))\n",
    "        \n",
    "    return fel, lista_surtidores    "
   ]
  },
  {
   "cell_type": "code",
   "execution_count": 102,
   "metadata": {},
   "outputs": [],
   "source": [
    "def haySurtidorLibre(lista_surtidores):\n",
    "    return not any(surtidor.ocupado  for surtidor in lista_surtidores)"
   ]
  },
  {
   "cell_type": "code",
   "execution_count": 32,
   "metadata": {},
   "outputs": [],
   "source": [
    "def getSurtidorLibre(lista_surtidores):\n",
    "    for surtidor in lista_surtidores:\n",
    "        if (not surtidor.ocupado):\n",
    "            return surtidor"
   ]
  },
  {
   "cell_type": "code",
   "execution_count": 76,
   "metadata": {},
   "outputs": [],
   "source": [
    "def removerEvento(fel,evento): #remueve el siguiente evento de la FEL\n",
    "    try:\n",
    "        fel.pop()\n",
    "    except:\n",
    "        pass"
   ]
  },
  {
   "cell_type": "code",
   "execution_count": 82,
   "metadata": {},
   "outputs": [],
   "source": [
    "def agregarEvento(fel,evento): #agrega un nuevo evento y ordena la FEL\n",
    "    fel.append(evento)\n",
    "    fel.sort(key=lambda evento: evento.duracion)"
   ]
  },
  {
   "cell_type": "code",
   "execution_count": 119,
   "metadata": {},
   "outputs": [
    {
     "ename": "TypeError",
     "evalue": "__init__() missing 2 required positional arguments: 'objeto' and 'duracion'",
     "output_type": "error",
     "traceback": [
      "\u001b[0;31m---------------------------------------------------------------------------\u001b[0m",
      "\u001b[0;31mTypeError\u001b[0m                                 Traceback (most recent call last)",
      "\u001b[0;32m<ipython-input-119-ba5f2f946d7d>\u001b[0m in \u001b[0;36m<module>\u001b[0;34m()\u001b[0m\n\u001b[1;32m     23\u001b[0m                     \u001b[0;32mpass\u001b[0m\u001b[0;34m\u001b[0m\u001b[0;34m\u001b[0m\u001b[0m\n\u001b[1;32m     24\u001b[0m             \u001b[0;32mif\u001b[0m \u001b[0;34m(\u001b[0m\u001b[0mevento\u001b[0m\u001b[0;34m.\u001b[0m\u001b[0mnombre\u001b[0m \u001b[0;34m==\u001b[0m \u001b[0;34m\"INICIO_ATENCION\"\u001b[0m\u001b[0;34m)\u001b[0m\u001b[0;34m:\u001b[0m\u001b[0;34m\u001b[0m\u001b[0;34m\u001b[0m\u001b[0m\n\u001b[0;32m---> 25\u001b[0;31m                 \u001b[0mevento_fin_atencion\u001b[0m \u001b[0;34m=\u001b[0m \u001b[0mEvento\u001b[0m\u001b[0;34m(\u001b[0m\u001b[0;34m\"FIN_ATENCION\"\u001b[0m\u001b[0;34m)\u001b[0m \u001b[0;31m#TODO: que duracion tiene este evento?\u001b[0m\u001b[0;34m\u001b[0m\u001b[0;34m\u001b[0m\u001b[0m\n\u001b[0m\u001b[1;32m     26\u001b[0m                 \u001b[0magregarEvento\u001b[0m\u001b[0;34m(\u001b[0m\u001b[0mfel\u001b[0m\u001b[0;34m,\u001b[0m \u001b[0mevento_fin_atencion\u001b[0m\u001b[0;34m)\u001b[0m\u001b[0;34m\u001b[0m\u001b[0;34m\u001b[0m\u001b[0m\n\u001b[1;32m     27\u001b[0m \u001b[0;34m\u001b[0m\u001b[0m\n",
      "\u001b[0;31mTypeError\u001b[0m: __init__() missing 2 required positional arguments: 'objeto' and 'duracion'"
     ]
    }
   ],
   "source": [
    "cant_experimentos = 60\n",
    "cant_corridas = 100\n",
    "reloj_simulacion = 0 \n",
    "fel,lista_surtidores = inicializarModelo()\n",
    "lista_promedio_atencion = []\n",
    "\n",
    "for i in range(cant_experimentos):\n",
    "    for j in range(cant_corridas):\n",
    "        for evento in fel:\n",
    "            reloj_simulacion = reloj_simulacion + evento.duracion\n",
    "            if (evento.nombre == \"ARRIBO_CAMION\"):\n",
    "                if haySurtidorLibre(lista_surtidores):\n",
    "                    surtidor = getSurtidorLibre(lista_surtidores)\n",
    "                    surtidor.marcarOcupado()\n",
    "                    evento_inicio_atencion = Evento(\"INICIO_ATENCION\",surtidor, surtidor.tiempoAtencion)\n",
    "                    agregarEvento(fel, evento_inicio_atencion)\n",
    "                    surtidor.actualizarPorcentajeOcupacion(tiempo_simulacion)\n",
    "                    tiempoAtencionCamion = evento_inicio_atencion.duracion - evento.duracion\n",
    "                    lista_promedio_atencion.append(tiempoAtencionCamion)\n",
    "                else:\n",
    "                    #TODO: no se que hacer aca para \"simular\" que un camion debe esperar en la cola\n",
    "                    #cuando no hay surtidores libres, saco el evento \"ARRIBO_CAMION\" de la FEL?\n",
    "                    pass\n",
    "            if (evento.nombre == \"INICIO_ATENCION\"):\n",
    "                evento_fin_atencion = Evento(\"FIN_ATENCION\") #TODO: que duracion tiene este evento?\n",
    "                agregarEvento(fel, evento_fin_atencion)\n",
    "                \n",
    "            elif (evento.nombre == \"FIN_ATENCION\"):\n",
    "                evento.objeto.marcarLibre() #el objeto del evento es un surtidor\n",
    "                evento.objeto.actualizarPorcentajeOcupacion(0) #Si el surtidor esta ocioso entonces no sumo nada a su tiempo de ocupacion\n"
   ]
  },
  {
   "cell_type": "code",
   "execution_count": null,
   "metadata": {},
   "outputs": [],
   "source": []
  },
  {
   "cell_type": "code",
   "execution_count": null,
   "metadata": {},
   "outputs": [],
   "source": []
  },
  {
   "cell_type": "code",
   "execution_count": null,
   "metadata": {},
   "outputs": [],
   "source": []
  },
  {
   "cell_type": "code",
   "execution_count": null,
   "metadata": {},
   "outputs": [],
   "source": []
  },
  {
   "cell_type": "code",
   "execution_count": null,
   "metadata": {},
   "outputs": [],
   "source": []
  }
 ],
 "metadata": {
  "kernelspec": {
   "display_name": "Python 3",
   "language": "python",
   "name": "python3"
  },
  "language_info": {
   "codemirror_mode": {
    "name": "ipython",
    "version": 3
   },
   "file_extension": ".py",
   "mimetype": "text/x-python",
   "name": "python",
   "nbconvert_exporter": "python",
   "pygments_lexer": "ipython3",
   "version": "3.6.9"
  }
 },
 "nbformat": 4,
 "nbformat_minor": 2
}
