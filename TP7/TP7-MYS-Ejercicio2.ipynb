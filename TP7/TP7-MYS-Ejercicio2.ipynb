{
 "cells": [
  {
   "cell_type": "markdown",
   "metadata": {},
   "source": [
    "Un nuevo comercio comenzó a funcionar en la ciudad e inicialmente cuenta con dos cajas que atienden continuamente la llegada de los clientes que desean pagar por los productos que compraron. \n",
    "Cada cajero tiene una tasa de atención diferente: El primero de ellos atiende cada cliente a un promedio de 15 minutos +/- 3 minutos siguiendo una distribución Normal mientras que segundo de ellos tiene una tasa de atención cuyo tiempo promedio es exponencial de 12 minutos por cada cliente. \n",
    "Durante la jornada, los clientes llegan en promedio cada 10 minutos siguiendo una distribución exponencial. \n",
    "Al comercio le interesa calcular el tiempo promedio que pasan los clientes esperando en la cola con el fin de determinar la necesidad de más cajas para minimizar la espera. \n"
   ]
  },
  {
   "cell_type": "code",
   "execution_count": 197,
   "metadata": {},
   "outputs": [],
   "source": [
    "import numpy as np\n",
    "import seaborn as sb"
   ]
  },
  {
   "cell_type": "code",
   "execution_count": 198,
   "metadata": {},
   "outputs": [],
   "source": [
    "def intervalo_confianza(lista):\n",
    "    media = np.mean(lista)\n",
    "    valor_z = 1.95 #para el 95%\n",
    "    desvio = np.std(lista)\n",
    "    n = len(lista)\n",
    "    \n",
    "    ext_inferior = media - (valor_z * (desvio/(n ** 0.5)))\n",
    "    ext_superior = media + (valor_z * (desvio/(n ** 0.5)))\n",
    "    return ext_inferior, ext_superior"
   ]
  },
  {
   "cell_type": "code",
   "execution_count": 200,
   "metadata": {},
   "outputs": [],
   "source": [
    "class Cajero():\n",
    "    def __init__(self, tipo):\n",
    "        if tipo == 1:\n",
    "            self.nombre = \"Empleado tipo 1\"\n",
    "            self.tiempoAtencion = np.random.normal(15,3) #Normal de media 15 minutos y Desv.est. de 3 minutos.\n",
    "        elif tipo == 2:\n",
    "            self.nombre = \"Empleado tipo 2\"\n",
    "            self.tiempoAtencion = np.random.exponential(12) #Exponencial con tiempo promedio de 12 minutos.\n",
    "        elif tipo == 3:\n",
    "            self.nombre = \"Empleado tipo 3\"\n",
    "            self.tiempoAtencion = np.random.normal(14,6) # #Normal con media=14 y desv. est. de 6"
   ]
  },
  {
   "cell_type": "code",
   "execution_count": 201,
   "metadata": {},
   "outputs": [],
   "source": [
    "class Cliente():\n",
    "    def __init__(self, id_camion):\n",
    "        self.id = id_camion\n",
    "        self.tiempoLlegada = int(np.random.exponential(10))\n",
    "        self.tiempoInicioAtencion = -1\n",
    "        \n",
    "    def __repr__(self):\n",
    "        return f\"id: {self.id} - hora llegada: {self.tiempoLlegada} - hora en que fue atendido: {self.tiempoInicioAtencion}\""
   ]
  },
  {
   "cell_type": "code",
   "execution_count": 202,
   "metadata": {},
   "outputs": [],
   "source": [
    "class Caja():\n",
    "    def __init__(self, tipo):\n",
    "        self.tipo = tipo\n",
    "        self.ocupada = False\n",
    "        self.tiempoOcupacion = 0\n",
    "        self.tiempoAtencion = Cajero(tipo).tiempoAtencion\n",
    "        \n",
    "    def marcarLibre(self):\n",
    "        self.ocupada = False\n",
    "    \n",
    "    def marcarOcupada(self):\n",
    "        self.ocupada = True\n",
    "    \n",
    "    def actualizarPorcentajeOcupacion(self, reloj):\n",
    "        self.tiempoOcupacion = self.tiempoOcupacion + reloj"
   ]
  },
  {
   "cell_type": "code",
   "execution_count": 203,
   "metadata": {},
   "outputs": [],
   "source": [
    "class Evento():\n",
    "    \"\"\"\n",
    "    nombre = puede ser ARRIBO_CLIENTE,INICIO_ATENCION, FIN_ATENCION\n",
    "    objeto = puede ser un Camion o un Surtidor\n",
    "    duracion = duracion del evento\n",
    "    \"\"\"\n",
    "    def __init__(self, _id, nombre, objeto, arribo, duracion):\n",
    "        self.id = _id\n",
    "        self.nombre = nombre\n",
    "        self.arribo = arribo\n",
    "        self.duracion = duracion\n",
    "        self.tiempo_fin = arribo + duracion\n",
    "        self.objeto = objeto\n",
    "        \n",
    "    def __repr__(self):\n",
    "        return f\"{self.id} - {self.nombre} - arribo: {self.arribo} - duracion: {self.duracion} - termina: {self.tiempo_fin}\\n\"\n",
    "    \n",
    "    \n",
    "class EventoFinAtencion(Evento):\n",
    "    def __init__(self, evento_inicio, **kwargs):\n",
    "        super(EventoFinAtencion, self).__init__(**kwargs)\n",
    "        self.evento_inicio = evento_inicio\n",
    "    \n",
    "    def __repr__(self):\n",
    "        return f\"{self.id} - {self.nombre} a {self.evento_inicio.id} - inicia: {self.arribo} - duracion: {self.duracion} - termina: {self.tiempo_fin}\\n\""
   ]
  },
  {
   "cell_type": "code",
   "execution_count": 204,
   "metadata": {},
   "outputs": [],
   "source": [
    "def hayCajaLibre(lista_cajas):\n",
    "    return any(not caja.ocupada  for caja in lista_cajas)"
   ]
  },
  {
   "cell_type": "code",
   "execution_count": 205,
   "metadata": {},
   "outputs": [],
   "source": [
    "def getCajaLibre(lista_cajas):\n",
    "    for caja in lista_cajas:\n",
    "        if (not caja.ocupada):\n",
    "            return caja"
   ]
  },
  {
   "cell_type": "code",
   "execution_count": 206,
   "metadata": {},
   "outputs": [],
   "source": [
    "def ordenarEventos(fel):\n",
    "    fel.sort(key=lambda evento: evento.arribo)\n",
    "    return fel"
   ]
  },
  {
   "cell_type": "code",
   "execution_count": 207,
   "metadata": {},
   "outputs": [],
   "source": [
    "def removerEvento(fel, evento): #remueve el siguiente evento de la FEL\n",
    "    if evento in fel:\n",
    "        fel.remove(evento)\n",
    "    return ordenarEventos(fel)"
   ]
  },
  {
   "cell_type": "code",
   "execution_count": 208,
   "metadata": {},
   "outputs": [],
   "source": [
    "def agregarEvento(fel, evento): #agrega un nuevo evento y ordena la FEL\n",
    "    fel.append(evento)\n",
    "    return ordenarEventos(fel)"
   ]
  },
  {
   "cell_type": "code",
   "execution_count": 209,
   "metadata": {},
   "outputs": [],
   "source": [
    "def calcularOcupacionCajas(ocupacion_cajas, lista_cajas, reloj_simulacion, i, j):\n",
    "    ocupacion_cajas[(i,j)]={ \"caja1\": lista_cajas[0].tiempoOcupacion / reloj_simulacion,\n",
    "                            \"caja2\": lista_cajas[1].tiempoOcupacion / reloj_simulacion}\n",
    "    \n",
    "    if (len(lista_cajas) == 3):\n",
    "        ocupacion_cajas[(i,j)]={\"caja3\": lista_cajas[2].tiempoOcupacion / reloj_simulacion}"
   ]
  },
  {
   "cell_type": "code",
   "execution_count": 210,
   "metadata": {},
   "outputs": [],
   "source": [
    "def inicializarModelo(prefijo, cantidad_clientes, cantidad_cajas):\n",
    "    fel = []\n",
    "    lista_cajas = []\n",
    "    for id_cliente in range(cantidad_clientes): \n",
    "        cliente = Cliente(f\"{prefijo}-C{id_cliente}\") # agrego un prefijo al id\n",
    "        fel.append(Evento(f\"{prefijo}-C{id_cliente}\", \"ARRIBO_CLIENTE\", cliente, cliente.tiempoLlegada, 0))\n",
    "    \n",
    "    for i in range(1,(cantidad_cajas+1)):\n",
    "        lista_cajas.append(Caja(i))\n",
    "        \n",
    "    return ordenarEventos(fel), lista_cajas"
   ]
  },
  {
   "cell_type": "code",
   "execution_count": 211,
   "metadata": {},
   "outputs": [],
   "source": [
    "def simulacion(cant_experimentos, cant_corridas, cant_clientes, cant_cajas):\n",
    "\n",
    "    total_clientes = cant_experimentos*cant_corridas*cant_clientes*8*24\n",
    "    demora_promedio_corrida = []\n",
    "    ocupacion_cajas = {}\n",
    "\n",
    "    for i in range(cant_experimentos):\n",
    "        for j in range(cant_corridas):\n",
    "            reloj_simulacion = 0\n",
    "            prefijo = f\"{i}{j}\" # un prefijo para identificar los eventos de cada experimento/corrida\n",
    "            fel, lista_cajas = inicializarModelo(prefijo, cant_clientes, cant_cajas)\n",
    "            demoras = []\n",
    "\n",
    "            k = 0 \n",
    "            while len(fel) > 0: #procesamos mientras la lista tenga eventos\n",
    "                evento = fel[k]\n",
    "                reloj_simulacion += evento.arribo\n",
    "\n",
    "                if evento.nombre == \"ARRIBO_CLIENTE\":\n",
    "                    if hayCajaLibre(lista_cajas):\n",
    "                        caja = getCajaLibre(lista_cajas)\n",
    "                        caja.marcarOcupada()\n",
    "                        caja.actualizarPorcentajeOcupacion(reloj_simulacion)\n",
    "                        evento_fin_atencion = EventoFinAtencion(evento_inicio=evento, #evento_inicio es el evento arribo relacionado al evento Fin de atencion\n",
    "                                                                nombre=\"FIN_ATENCION\", \n",
    "                                                                objeto=caja, \n",
    "                                                                _id=f\"{prefijo}-F{k}\",\n",
    "                                                                arribo=reloj_simulacion, \n",
    "                                                                duracion=caja.tiempoAtencion) \n",
    "                        fel = agregarEvento(fel, evento_fin_atencion)\n",
    "                        demora = reloj_simulacion - evento.arribo #calculamos la demora en atender a este camion.\n",
    "                        demoras.append(demora)\n",
    "                        evento.objeto.tiempoInicioAtencion = reloj_simulacion # como fue atendido, seteamos este atributo al camion.\n",
    "\n",
    "                if evento.nombre == \"FIN_ATENCION\":\n",
    "                    evento.objeto.marcarLibre()\n",
    "                    evento.objeto.actualizarPorcentajeOcupacion(0)\n",
    "                    evento_inicio = evento.evento_inicio #evento_inicio sirve para quitar ambos eventos (arribo y espera) de la FEL\n",
    "                    fel = removerEvento(fel, evento)\n",
    "                    fel = removerEvento(fel, evento_inicio)\n",
    "\n",
    "\n",
    "                k += 1\n",
    "                if k >= len(fel):\n",
    "                    if len(fel) > 0: # siguen habiendo eventos por procesar, reseteamos k.\n",
    "                        k = 0 \n",
    "                    else:\n",
    "                        break\n",
    "            demora_promedio_corrida.append(np.mean(demoras))\n",
    "            calcularOcupacionCajas(ocupacion_cajas, lista_cajas, reloj_simulacion, i,j)\n",
    "    return demora_promedio_corrida, ocupacion_cajas"
   ]
  },
  {
   "cell_type": "code",
   "execution_count": 212,
   "metadata": {},
   "outputs": [],
   "source": [
    "demora_promedio_corrida, ocupacion_cajas = simulacion(cant_experimentos=1, cant_corridas=365,cant_clientes=10,cant_cajas=2)"
   ]
  },
  {
   "cell_type": "markdown",
   "metadata": {},
   "source": [
    "### Demora promedio cliente"
   ]
  },
  {
   "cell_type": "code",
   "execution_count": 213,
   "metadata": {},
   "outputs": [
    {
     "name": "stdout",
     "output_type": "stream",
     "text": [
      "Demora promedio 3855.40\n"
     ]
    }
   ],
   "source": [
    "print(f\"Demora promedio {np.mean(demora_promedio_corrida):.2f}\")"
   ]
  },
  {
   "cell_type": "markdown",
   "metadata": {},
   "source": [
    "### Intervalo de confianza con un nivel de confiabilidad del 99%."
   ]
  },
  {
   "cell_type": "code",
   "execution_count": 214,
   "metadata": {},
   "outputs": [
    {
     "data": {
      "text/plain": [
       "(3604.768034365758, 4106.034698748563)"
      ]
     },
     "execution_count": 214,
     "metadata": {},
     "output_type": "execute_result"
    }
   ],
   "source": [
    "intervalo_confianza(demora_promedio_corrida)"
   ]
  },
  {
   "cell_type": "markdown",
   "metadata": {},
   "source": [
    "### Histograma de la simulación (tiempos promedio por cada experimento)."
   ]
  },
  {
   "cell_type": "code",
   "execution_count": 215,
   "metadata": {},
   "outputs": [
    {
     "data": {
      "image/png": "[encoded data removed]",
      "text/plain": [
       "<Figure size 432x288 with 1 Axes>"
      ]
     },
     "metadata": {
      "needs_background": "light"
     },
     "output_type": "display_data"
    }
   ],
   "source": [
    "grafico = sb.distplot(demora_promedio_corrida)"
   ]
  },
  {
   "cell_type": "markdown",
   "metadata": {},
   "source": [
    "### Calcule el porcentaje de tiempo de ocupación de cada caja."
   ]
  },
  {
   "cell_type": "code",
   "execution_count": 216,
   "metadata": {},
   "outputs": [
    {
     "name": "stdout",
     "output_type": "stream",
     "text": [
      "Ocupacion Cajas:\n",
      "{0: '0.45%', 1: '0.54%'}\n"
     ]
    }
   ],
   "source": [
    "ocupacion_caja1 = 0\n",
    "ocupacion_caja2 = 0\n",
    "i = 0\n",
    "resultado = {}\n",
    "\n",
    "for key, value in ocupacion_cajas.items():\n",
    "    i+=1\n",
    "    ocupacion_caja1 = ocupacion_caja1 + value['caja1']\n",
    "    ocupacion_caja2 = ocupacion_caja2 + value['caja2']\n",
    "\n",
    "resultado[0] = str(round((ocupacion_caja1/i),2))+\"%\"\n",
    "resultado[1] = str(round((ocupacion_caja2/i),2))+\"%\"\n",
    "print(\"Ocupacion Cajas:\")\n",
    "print(resultado)"
   ]
  },
  {
   "cell_type": "markdown",
   "metadata": {},
   "source": [
    "### Realice la simulación pero esta vez, añadiendo una nueva caja cuyo cajero tenga una capacidad de atención Normal (media = 14 min., desvío = 6 min.) y analice los resultados. ¿Los clientes pasan menos tiempo a la espera de ser atendidos?"
   ]
  },
  {
   "cell_type": "code",
   "execution_count": 217,
   "metadata": {},
   "outputs": [],
   "source": [
    "demora_promedio_corrida, ocupacion_cajas = simulacion(cant_experimentos=1, cant_corridas=365,cant_clientes=10,cant_cajas=3)"
   ]
  },
  {
   "cell_type": "markdown",
   "metadata": {},
   "source": [
    "### Resultado con una 3er caja agregada"
   ]
  },
  {
   "cell_type": "code",
   "execution_count": 218,
   "metadata": {},
   "outputs": [
    {
     "name": "stdout",
     "output_type": "stream",
     "text": [
      "Demora promedio 618.30\n"
     ]
    }
   ],
   "source": [
    "print(f\"Demora promedio {np.mean(demora_promedio_corrida):.2f}\")"
   ]
  },
  {
   "cell_type": "markdown",
   "metadata": {},
   "source": [
    "Este resultado me indica que el promedio de espera de los clientes se reduce cuando agrego una caja mas a la simulacion."
   ]
  },
  {
   "cell_type": "markdown",
   "metadata": {},
   "source": [
    "### Calcule la cantidad necesaria de cajas y sus características de atención, para disminuir el tiempo de espera de los clientes en un 25%."
   ]
  },
  {
   "cell_type": "markdown",
   "metadata": {},
   "source": [
    "Tomando en cuenta que el tiempo de espera de los clientes en promedio es de 3748.64 reducirlo en un 25% implicaria \n",
    "que el promedio de espera queda en un valor aproximado de 2811.48. Realizando una regla de 3 si con 2 maquinas obtengo\n",
    "un promedio de 3748.64 entonces necesitaria aproximadamente 1.5 maquinas mas ~= 2 maquinas."
   ]
  }
 ],
 "metadata": {
  "kernelspec": {
   "display_name": "Python 3",
   "language": "python",
   "name": "python3"
  },
  "language_info": {
   "codemirror_mode": {
    "name": "ipython",
    "version": 3
   },
   "file_extension": ".py",
   "mimetype": "text/x-python",
   "name": "python",
   "nbconvert_exporter": "python",
   "pygments_lexer": "ipython3",
   "version": "3.6.9"
  }
 },
 "nbformat": 4,
 "nbformat_minor": 2
}
