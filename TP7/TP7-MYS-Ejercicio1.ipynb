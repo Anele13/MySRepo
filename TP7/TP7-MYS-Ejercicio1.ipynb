{
 "cells": [
  {
   "cell_type": "code",
   "execution_count": 133,
   "metadata": {},
   "outputs": [],
   "source": [
    "import numpy as np\n",
    "import seaborn as sb"
   ]
  },
  {
   "cell_type": "code",
   "execution_count": 137,
   "metadata": {},
   "outputs": [],
   "source": [
    "def intervalo_confianza(lista):\n",
    "    media = np.mean(lista)\n",
    "    valor_z = 2.57\n",
    "    desvio = np.std(lista)\n",
    "    n = len(lista)\n",
    "    \n",
    "    ext_inferior = media - (valor_z * (desvio/(n ** 0.5)))\n",
    "    ext_superior = media + (valor_z * (desvio/(n ** 0.5)))\n",
    "    return ext_inferior, ext_superior"
   ]
  },
  {
   "cell_type": "code",
   "execution_count": 199,
   "metadata": {},
   "outputs": [],
   "source": [
    "class Empleado():\n",
    "    def __init__(self, tipo):\n",
    "        if tipo == 1:\n",
    "            self.nombre = \"Empleado tipo 1\"\n",
    "            self.tiempoAtencion = np.random.normal(18,4) #Normal de media 18 minutos y Desv.est. de 4 minutos.\n",
    "        elif tipo == 2:\n",
    "            self.nombre = \"Empleado tipo 2\"\n",
    "            self.tiempoAtencion = np.random.exponential(15) #Exponencial con tiempo promedio de 15 minutos. \n",
    "        elif tipo == 3:\n",
    "            self.nombre = \"Empleado tipo 3\"\n",
    "            self.tiempoAtencion = np.random.exponential(16) #Exponencial con promedio de 16 minutos.\n",
    "        elif tipo ==4:\n",
    "            self.nombre = \"Empleado tipo 4\"\n",
    "            self.tiempoAtencion = np.random.normal(14,3) #Normal de media 14 minutos y desv.est. de 3 minutos.\n",
    "        else:\n",
    "            self.nombre = \"Empleado tipo 5\"\n",
    "            self.tiempoAtencion = np.random.normal(19,5) #Normal de media 19 minutos y desv.est. de 5 minutos.\n"
   ]
  },
  {
   "cell_type": "code",
   "execution_count": 200,
   "metadata": {},
   "outputs": [],
   "source": [
    "class Camion():\n",
    "    def __init__(self, id_camion):\n",
    "        self.id = id_camion\n",
    "        self.tiempoLlegada = int(np.random.exponential(15))\n",
    "        self.tiempoInicioAtencion = -1\n",
    "        \n",
    "    def __repr__(self):\n",
    "        return f\"id: {self.id} - hora llegada: {self.tiempoLlegada} - hora en que fue atendido: {self.tiempoInicioAtencion}\""
   ]
  },
  {
   "cell_type": "code",
   "execution_count": 201,
   "metadata": {},
   "outputs": [],
   "source": [
    "class Surtidor():\n",
    "    def __init__(self, tipo):\n",
    "        self.tipo = tipo\n",
    "        self.ocupado = False\n",
    "        self.tiempoOcupacion = 0\n",
    "        self.tiempoAtencion = Empleado(tipo).tiempoAtencion\n",
    "        \n",
    "    def marcarLibre(self):\n",
    "        self.ocupado = False\n",
    "    \n",
    "    def marcarOcupado(self):\n",
    "        self.ocupado = True\n",
    "    \n",
    "    def actualizarPorcentajeOcupacion(self, reloj):\n",
    "        self.tiempoOcupacion = self.tiempoOcupacion + reloj"
   ]
  },
  {
   "cell_type": "code",
   "execution_count": 202,
   "metadata": {},
   "outputs": [],
   "source": [
    "class Evento():\n",
    "    \"\"\"\n",
    "    nombre = puede ser ARRIBO_CAMION, FIN_ATENCION\n",
    "    objeto = puede ser un Camion o un Surtidor\n",
    "    duracion = duracion del evento\n",
    "    \"\"\"\n",
    "    def __init__(self, _id, nombre, objeto, arribo, duracion):\n",
    "        self.id = _id\n",
    "        self.nombre = nombre\n",
    "        self.arribo = arribo\n",
    "        self.duracion = duracion\n",
    "        self.tiempo_fin = arribo + duracion\n",
    "        self.objeto = objeto\n",
    "        \n",
    "    def __repr__(self):\n",
    "        return f\"{self.id} - {self.nombre} - arribo: {self.arribo} - duracion: {self.duracion} - termina: {self.tiempo_fin}\\n\"\n",
    "    \n",
    "    \n",
    "class EventoFinAtencion(Evento):\n",
    "    def __init__(self, evento_inicio, **kwargs):\n",
    "        super(EventoFinAtencion, self).__init__(**kwargs)\n",
    "        self.evento_inicio = evento_inicio\n",
    "    \n",
    "    def __repr__(self):\n",
    "        return f\"{self.id} - {self.nombre} a {self.evento_inicio.id} - inicia: {self.arribo} - duracion: {self.duracion} - termina: {self.tiempo_fin}\\n\""
   ]
  },
  {
   "cell_type": "code",
   "execution_count": 203,
   "metadata": {},
   "outputs": [],
   "source": [
    "def inicializarModelo(prefijo, cantidad_camiones, cantidad_surtidores):\n",
    "    fel = []\n",
    "    lista_surtidores = []\n",
    "    for id_camion in range(cantidad_camiones): \n",
    "        camion = Camion(f\"{prefijo}-C{id_camion}\") # agrego un prefijo al id\n",
    "        fel.append(Evento(f\"{prefijo}-C{id_camion}\", \"ARRIBO_CAMION\", camion, camion.tiempoLlegada, 0))\n",
    "    \n",
    "    for i in range(1,(cantidad_surtidores+1)):\n",
    "        lista_surtidores.append(Surtidor(i))\n",
    "        \n",
    "    return ordenarEventos(fel), lista_surtidores   "
   ]
  },
  {
   "cell_type": "code",
   "execution_count": 204,
   "metadata": {},
   "outputs": [],
   "source": [
    "def haySurtidorLibre(lista_surtidores):\n",
    "    return any(not surtidor.ocupado  for surtidor in lista_surtidores)"
   ]
  },
  {
   "cell_type": "code",
   "execution_count": 205,
   "metadata": {},
   "outputs": [],
   "source": [
    "def getSurtidorLibre(lista_surtidores):\n",
    "    for surtidor in lista_surtidores:\n",
    "        if (not surtidor.ocupado):\n",
    "            return surtidor"
   ]
  },
  {
   "cell_type": "code",
   "execution_count": 206,
   "metadata": {},
   "outputs": [],
   "source": [
    "def ordenarEventos(fel):\n",
    "    fel.sort(key=lambda evento: evento.arribo)\n",
    "    return fel"
   ]
  },
  {
   "cell_type": "code",
   "execution_count": 207,
   "metadata": {},
   "outputs": [],
   "source": [
    "def removerEvento(fel, evento): #remueve el siguiente evento de la FEL\n",
    "    if evento in fel:\n",
    "        fel.remove(evento)\n",
    "    return ordenarEventos(fel)"
   ]
  },
  {
   "cell_type": "code",
   "execution_count": 208,
   "metadata": {},
   "outputs": [],
   "source": [
    "def agregarEvento(fel, evento): #agrega un nuevo evento y ordena la FEL\n",
    "    fel.append(evento)\n",
    "    return ordenarEventos(fel)"
   ]
  },
  {
   "cell_type": "code",
   "execution_count": 209,
   "metadata": {},
   "outputs": [],
   "source": [
    "def calcularOcupacionSurtidores(ocupacion_surtidores, lista_surtidores, reloj_simulacion, i,j):\n",
    "    ocupacion_surtidores[(i,j)]={ \"surtidor1\": lista_surtidores[0].tiempoOcupacion / reloj_simulacion,\n",
    "                                    \"surtidor2\": lista_surtidores[1].tiempoOcupacion / reloj_simulacion,\n",
    "                                    \"surtidor3\": lista_surtidores[2].tiempoOcupacion / reloj_simulacion,\n",
    "                                    \"surtidor4\": lista_surtidores[3].tiempoOcupacion / reloj_simulacion}\n",
    "    if (len(lista_surtidores) == 5):\n",
    "        ocupacion_surtidores[(i,j)]={\"surtidor5\": lista_surtidores[4].tiempoOcupacion / reloj_simulacion}\n"
   ]
  },
  {
   "cell_type": "code",
   "execution_count": 251,
   "metadata": {},
   "outputs": [],
   "source": [
    "def simulacion(experimentos, corridas,camiones, surtidores):\n",
    "    cant_experimentos = experimentos\n",
    "    cant_corridas = corridas\n",
    "    cant_camiones = camiones\n",
    "    cant_surtidores = surtidores\n",
    "    total_camiones = cant_experimentos*cant_corridas*cant_camiones\n",
    "    demora_promedio_corrida = []\n",
    "    ocupacion_surtidores = {}\n",
    "\n",
    "    for i in range(cant_experimentos):\n",
    "        for j in range(cant_corridas):\n",
    "            reloj_simulacion = 0\n",
    "            prefijo = f\"{i}{j}\" # un prefijo para identificar los eventos de cada experimento/corrida\n",
    "            fel, lista_surtidores = inicializarModelo(prefijo, cant_camiones, cant_surtidores)\n",
    "            demoras = []\n",
    "\n",
    "            k = 0 \n",
    "            while len(fel) > 0: #procesamos mientras la lista tenga eventos\n",
    "                evento = fel[k]\n",
    "                reloj_simulacion += evento.arribo\n",
    "\n",
    "                if evento.nombre == \"ARRIBO_CAMION\":\n",
    "                    if haySurtidorLibre(lista_surtidores):\n",
    "                        surtidor = getSurtidorLibre(lista_surtidores)\n",
    "                        surtidor.marcarOcupado()\n",
    "                        surtidor.actualizarPorcentajeOcupacion(reloj_simulacion)\n",
    "                        evento_fin_atencion = EventoFinAtencion(evento_inicio=evento, #evento_inicio es el evento arribo relacionado al evento Fin de atencion\n",
    "                                                                nombre=\"FIN_ATENCION\", \n",
    "                                                                objeto=surtidor, \n",
    "                                                                _id=f\"{prefijo}-F{k}\",\n",
    "                                                                arribo=reloj_simulacion, \n",
    "                                                                duracion=surtidor.tiempoAtencion) \n",
    "                        fel = agregarEvento(fel, evento_fin_atencion)\n",
    "                        demora = reloj_simulacion - evento.arribo #calculamos la demora en atender a este camion.\n",
    "                        demoras.append(demora)\n",
    "                        evento.objeto.tiempoInicioAtencion = reloj_simulacion # como fue atendido, seteamos este atributo al camion.\n",
    "\n",
    "                if evento.nombre == \"FIN_ATENCION\":\n",
    "                    evento.objeto.marcarLibre()\n",
    "                    evento.objeto.actualizarPorcentajeOcupacion(0)\n",
    "                    evento_inicio = evento.evento_inicio #evento_inicio sirve para quitar ambos eventos (arribo y espera) de la FEL\n",
    "                    fel = removerEvento(fel, evento)\n",
    "                    fel = removerEvento(fel, evento_inicio)\n",
    "\n",
    "\n",
    "                k += 1\n",
    "                if k >= len(fel):\n",
    "                    if len(fel) > 0: # siguen habiendo eventos por procesar, reseteamos k.\n",
    "                        k = 0 \n",
    "                    else:\n",
    "                        break\n",
    "            demora_promedio_corrida.append(np.mean(demoras))\n",
    "            calcularOcupacionSurtidores(ocupacion_surtidores, lista_surtidores, reloj_simulacion, i,j)\n",
    "    return demora_promedio_corrida, ocupacion_surtidores"
   ]
  },
  {
   "cell_type": "code",
   "execution_count": 252,
   "metadata": {},
   "outputs": [],
   "source": [
    "demora_promedio_corrida, ocupacion_surtidores = simulacion(experimentos=60, corridas=100, camiones=10, surtidores=4)"
   ]
  },
  {
   "cell_type": "markdown",
   "metadata": {},
   "source": [
    "### Demora Promedio de los camiones"
   ]
  },
  {
   "cell_type": "code",
   "execution_count": 255,
   "metadata": {},
   "outputs": [
    {
     "name": "stdout",
     "output_type": "stream",
     "text": [
      "Demora promedio 565.37\n"
     ]
    }
   ],
   "source": [
    "print(f\"Demora promedio {np.mean(demora_promedio_corrida):.2f}\")"
   ]
  },
  {
   "cell_type": "markdown",
   "metadata": {},
   "source": [
    "### Intervalo de confianza con un nivel de confiabilidad del 99%."
   ]
  },
  {
   "cell_type": "code",
   "execution_count": 263,
   "metadata": {},
   "outputs": [
    {
     "data": {
      "text/plain": [
       "(770.3608030049282, 803.688047082457)"
      ]
     },
     "execution_count": 263,
     "metadata": {},
     "output_type": "execute_result"
    }
   ],
   "source": [
    "intervalo_confianza(demora_promedio_corrida)"
   ]
  },
  {
   "cell_type": "markdown",
   "metadata": {},
   "source": [
    "### Histograma de la simulación (tiempos promedio por cada experimento)."
   ]
  },
  {
   "cell_type": "code",
   "execution_count": 257,
   "metadata": {},
   "outputs": [
    {
     "data": {
      "image/png": "[encoded data removed]",
      "text/plain": [
       "<Figure size 432x288 with 1 Axes>"
      ]
     },
     "metadata": {
      "needs_background": "light"
     },
     "output_type": "display_data"
    }
   ],
   "source": [
    "grafico = sb.distplot(demora_promedio_corrida)"
   ]
  },
  {
   "cell_type": "markdown",
   "metadata": {},
   "source": [
    "### Calcule el porcentaje de tiempo de ocupación de cada surtidor."
   ]
  },
  {
   "cell_type": "code",
   "execution_count": 258,
   "metadata": {},
   "outputs": [
    {
     "name": "stdout",
     "output_type": "stream",
     "text": [
      "Ocupacion Surtidores:\n",
      "{0: '0.28%', 1: '0.28%', 2: '0.18%', 3: '0.22%'}\n"
     ]
    }
   ],
   "source": [
    "ocupacion_surtidor1 = 0\n",
    "ocupacion_surtidor2 = 0\n",
    "ocupacion_surtidor3 = 0\n",
    "ocupacion_surtidor4 = 0\n",
    "i = 0\n",
    "resultado = {}\n",
    "\n",
    "for key, value in ocupacion_surtidores.items():\n",
    "    i+=1\n",
    "    ocupacion_surtidor1 = ocupacion_surtidor1 + value['surtidor1']\n",
    "    ocupacion_surtidor2 = ocupacion_surtidor2 + value['surtidor2']\n",
    "    ocupacion_surtidor3 = ocupacion_surtidor3 + value['surtidor3']\n",
    "    ocupacion_surtidor4 = ocupacion_surtidor4 + value['surtidor4']\n",
    "\n",
    "resultado[0] = str(round((ocupacion_surtidor1/i),2))+\"%\"\n",
    "resultado[1] = str(round((ocupacion_surtidor2/i),2))+\"%\"\n",
    "resultado[2] = str(round((ocupacion_surtidor3/i),2))+\"%\"\n",
    "resultado[3] = str(round((ocupacion_surtidor4/i),2))+\"%\"\n",
    "print(\"Ocupacion Surtidores:\")\n",
    "print(resultado)"
   ]
  },
  {
   "cell_type": "markdown",
   "metadata": {},
   "source": [
    "### Realice la simulación pero esta vez, añadiendo un nuevo surtidor cuyo empleado tenga una capacidad de atención Normal (media = 19 min, desvío = 5 min.) y analice los resultados. ¿Los camiones pasan menos tiempo en espera?"
   ]
  },
  {
   "cell_type": "code",
   "execution_count": 259,
   "metadata": {},
   "outputs": [],
   "source": [
    "demora_promedio_corrida, ocupacion_surtidores = simulacion(experimentos=60, corridas=100, camiones=10, surtidores=5)"
   ]
  },
  {
   "cell_type": "markdown",
   "metadata": {},
   "source": [
    "### Resultado con un 5to surtidor agregado"
   ]
  },
  {
   "cell_type": "markdown",
   "metadata": {},
   "source": [
    "### Demora Promedio de los camiones"
   ]
  },
  {
   "cell_type": "code",
   "execution_count": 262,
   "metadata": {},
   "outputs": [
    {
     "name": "stdout",
     "output_type": "stream",
     "text": [
      "Demora promedio 787.02\n"
     ]
    }
   ],
   "source": [
    "print(f\"Demora promedio {np.mean(demora_promedio_corrida):.2f}\")"
   ]
  },
  {
   "cell_type": "markdown",
   "metadata": {},
   "source": [
    "Este resultado me indica que el promedio de espera de los camiones es mas elevado que en la situacion anterior en la que tenia solo 4 surtidores disponibles."
   ]
  },
  {
   "cell_type": "markdown",
   "metadata": {},
   "source": [
    "### Calcule la cantidad necesaria de surtidores y sus características de atención*, para disminuir el tiempo de espera en un 30%."
   ]
  },
  {
   "cell_type": "markdown",
   "metadata": {},
   "source": [
    "Tomando en cuenta que el tiempo de espera de los clientes en promedio es de 3748.64 reducirlo en un 30%\n",
    "implicaria que el promedio de espera queda en un valor aproximado de 2624.048. Realizando una regla de 3 si\n",
    "con 4 maquinas obtengo un promedio de 3748.64 entonces necesitaria aproximadamente 4 maquinas mas."
   ]
  },
  {
   "cell_type": "code",
   "execution_count": null,
   "metadata": {},
   "outputs": [],
   "source": []
  }
 ],
 "metadata": {
  "kernelspec": {
   "display_name": "Python 3",
   "language": "python",
   "name": "python3"
  },
  "language_info": {
   "codemirror_mode": {
    "name": "ipython",
    "version": 3
   },
   "file_extension": ".py",
   "mimetype": "text/x-python",
   "name": "python",
   "nbconvert_exporter": "python",
   "pygments_lexer": "ipython3",
   "version": "3.6.9"
  }
 },
 "nbformat": 4,
 "nbformat_minor": 2
}
