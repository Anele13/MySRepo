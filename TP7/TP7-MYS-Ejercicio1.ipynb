{
 "cells": [
  {
   "cell_type": "code",
   "execution_count": 34,
   "metadata": {},
   "outputs": [],
   "source": [
    "import numpy as np\n",
    "import seaborn as sb"
   ]
  },
  {
   "cell_type": "code",
   "execution_count": 279,
   "metadata": {},
   "outputs": [],
   "source": [
    "def intervalo_confianza(lista):\n",
    "    media = np.mean(lista)\n",
    "    valor_z = 2.57\n",
    "    desvio = np.std(lista)\n",
    "    n = len(lista)\n",
    "    \n",
    "    ext_inferior = media - (valor_z * (desvio/(n ** 0.5)))\n",
    "    ext_superior = media + (valor_z * (desvio/(n ** 0.5)))\n",
    "    return ext_inferior, ext_superior"
   ]
  },
  {
   "cell_type": "code",
   "execution_count": 280,
   "metadata": {},
   "outputs": [],
   "source": [
    "class Empleado():\n",
    "    def __init__(self, tipo):\n",
    "        if tipo == 1:\n",
    "            self.nombre = \"Empleado tipo 1\"\n",
    "            self.tiempoAtencion = round(np.random.normal(18,4)) #Normal de media 18 minutos y Desv.est. de 4 minutos.\n",
    "        elif tipo == 2:\n",
    "            self.nombre = \"Empleado tipo 2\"\n",
    "            self.tiempoAtencion = round(np.random.exponential(15)) #Exponencial con tiempo promedio de 15 minutos. \n",
    "        elif tipo == 3:\n",
    "            self.nombre = \"Empleado tipo 3\"\n",
    "            self.tiempoAtencion = round(np.random.exponential(16)) #Exponencial con promedio de 16 minutos.\n",
    "        elif tipo ==4:\n",
    "            self.nombre = \"Empleado tipo 4\"\n",
    "            self.tiempoAtencion = round(np.random.normal(14,3)) #Normal de media 14 minutos y desv.est. de 3 minutos.\n",
    "        else:\n",
    "            self.nombre = \"Empleado tipo 5\"\n",
    "            self.tiempoAtencion = round(np.random.normal(19,5)) #Normal de media 19 minutos y desv.est. de 5 minutos.\n"
   ]
  },
  {
   "cell_type": "code",
   "execution_count": 281,
   "metadata": {},
   "outputs": [],
   "source": [
    "class Camion():\n",
    "    def __init__(self, id_camion):\n",
    "        self.id = id_camion\n",
    "        self.tiempoLlegada = round(np.random.exponential(15))\n",
    "        self.tiempoInicioAtencion = -1\n",
    "        \n",
    "    def __repr__(self):\n",
    "        return f\"id: {self.id} - hora llegada: {self.tiempoLlegada} - hora en que fue atendido: {self.tiempoInicioAtencion}\""
   ]
  },
  {
   "cell_type": "code",
   "execution_count": 282,
   "metadata": {},
   "outputs": [],
   "source": [
    "class Surtidor():\n",
    "    def __init__(self, tipo):\n",
    "        self.tipo = tipo\n",
    "        self.ocupado = False\n",
    "        self.tiempoOcupacion = 0\n",
    "        self.tiempoAtencion = Empleado(tipo).tiempoAtencion\n",
    "        \n",
    "    def marcarLibre(self):\n",
    "        self.ocupado = False\n",
    "    \n",
    "    def marcarOcupado(self):\n",
    "        self.ocupado = True\n",
    "    \n",
    "    def actualizarPorcentajeOcupacion(self):\n",
    "        self.tiempoOcupacion = self.tiempoOcupacion + self.tiempoAtencion\n",
    "    \n",
    "    def __str__(self):\n",
    "        return f\"{self.id}\""
   ]
  },
  {
   "cell_type": "code",
   "execution_count": 283,
   "metadata": {},
   "outputs": [],
   "source": [
    "class Evento():\n",
    "    \"\"\"\n",
    "    nombre = puede ser ARRIBO_CAMION, FIN_ATENCION\n",
    "    objeto = puede ser un Camion o un Surtidor\n",
    "    duracion = duracion del evento\n",
    "    \"\"\"\n",
    "    def __init__(self, _id, nombre, objeto, arribo, duracion):\n",
    "        self.id = _id\n",
    "        self.nombre = nombre\n",
    "        self.arribo = arribo\n",
    "        self.duracion = duracion\n",
    "        self.tiempo_fin = arribo + duracion\n",
    "        self.objeto = objeto\n",
    "        \n",
    "    def __repr__(self):\n",
    "        return f\"{self.id} - {self.nombre} - arribo: {self.arribo} - duracion: {self.duracion} - termina: {self.tiempo_fin}\\n\"\n",
    "    \n",
    "    \n",
    "class EventoFinAtencion(Evento):\n",
    "    def __init__(self, evento_inicio, **kwargs):\n",
    "        super(EventoFinAtencion, self).__init__(**kwargs)\n",
    "        self.evento_inicio = evento_inicio\n",
    "    \n",
    "    def __repr__(self):\n",
    "        return f\"{self.id} - {self.nombre} a {self.evento_inicio.id} - inicia: {self.arribo} - duracion: {self.duracion} - termina: {self.tiempo_fin}\\n\""
   ]
  },
  {
   "cell_type": "code",
   "execution_count": 577,
   "metadata": {},
   "outputs": [],
   "source": [
    "def inicializarModelo(prefijo, cantidad_camiones, cantidad_surtidores):\n",
    "    fel = []\n",
    "    lista_surtidores = []\n",
    "    for id_camion in range(cantidad_camiones): \n",
    "        camion = Camion(f\"{prefijo}-C{id_camion}\")\n",
    "        fel.append(Evento(f\"{prefijo}-C{id_camion}\", \n",
    "                          \"ARRIBO_CAMION\",\n",
    "                          camion,\n",
    "                          camion.tiempoLlegada,\n",
    "                          0))\n",
    "    \n",
    "    for i in range(cantidad_surtidores):\n",
    "        lista_surtidores.append(Surtidor(i))\n",
    "        \n",
    "    return ordenarEventos(fel), lista_surtidores   "
   ]
  },
  {
   "cell_type": "code",
   "execution_count": 578,
   "metadata": {},
   "outputs": [],
   "source": [
    "def haySurtidorLibre(lista_surtidores):\n",
    "    return any(not surtidor.ocupado  for surtidor in lista_surtidores)"
   ]
  },
  {
   "cell_type": "code",
   "execution_count": 579,
   "metadata": {},
   "outputs": [],
   "source": [
    "def getSurtidorLibre(lista_surtidores):\n",
    "    for surtidor in lista_surtidores:\n",
    "        if (not surtidor.ocupado):\n",
    "            return surtidor"
   ]
  },
  {
   "cell_type": "code",
   "execution_count": 580,
   "metadata": {},
   "outputs": [],
   "source": [
    "def ordenarEventos(fel):\n",
    "    fel.sort(key=lambda evento: evento.arribo)\n",
    "    return fel"
   ]
  },
  {
   "cell_type": "code",
   "execution_count": 581,
   "metadata": {},
   "outputs": [],
   "source": [
    "def removerEvento(fel, evento): #remueve el siguiente evento de la FEL\n",
    "    if evento in fel:\n",
    "        fel.remove(evento)\n",
    "    return fel #ordenarEventos(fel)"
   ]
  },
  {
   "cell_type": "code",
   "execution_count": 582,
   "metadata": {},
   "outputs": [],
   "source": [
    "def agregarEvento(fel, evento): #agrega un nuevo evento y ordena la FEL\n",
    "    fel.append(evento)\n",
    "    return ordenarEventos(fel)"
   ]
  },
  {
   "cell_type": "code",
   "execution_count": 583,
   "metadata": {},
   "outputs": [],
   "source": [
    "def calcularOcupacionSurtidores(lista_surtidores):\n",
    "    resultado = []\n",
    "    for surtidor in lista_surtidores:\n",
    "        resultado.append(surtidor.tiempoOcupacion)\n",
    "    return resultado"
   ]
  },
  {
   "cell_type": "code",
   "execution_count": 587,
   "metadata": {},
   "outputs": [],
   "source": [
    "def simulacion(experimentos, corridas,camiones, surtidores):\n",
    "    cant_experimentos = experimentos\n",
    "    cant_corridas = corridas\n",
    "    cant_camiones = camiones\n",
    "    cant_surtidores = surtidores\n",
    "    total_camiones = cant_experimentos*cant_corridas*cant_camiones\n",
    "    contador = 0\n",
    "    ocupacion_surtidores = {}\n",
    "    demoras_promedio_experimento = []\n",
    "    contador = 0\n",
    "    \n",
    "    for i in range(cant_experimentos):\n",
    "        demora_promedio_corrida = []\n",
    "        \n",
    "        for j in range(cant_corridas):\n",
    "            \n",
    "            prefijo = f\"{i}{j}\" # un prefijo para identificar los eventos de cada experimento/corrida\n",
    "            fel, lista_surtidores = inicializarModelo(prefijo, cant_camiones, cant_surtidores)\n",
    "            lista = []\n",
    "            k = 0 \n",
    "            contador+=1\n",
    "            \n",
    "            while len(fel) > 0: #procesamos mientras la lista tenga eventos\n",
    "                reloj_simulacion = 0\n",
    "                evento = fel[k]\n",
    "                reloj_simulacion += evento.arribo\n",
    "                fel = removerEvento(fel, evento)\n",
    "                if evento.nombre == \"ARRIBO_CAMION\":\n",
    "                    if haySurtidorLibre(lista_surtidores):\n",
    "                        surtidor = getSurtidorLibre(lista_surtidores)\n",
    "                        surtidor.marcarOcupado()\n",
    "                        surtidor.actualizarPorcentajeOcupacion()\n",
    "                        evento_fin_atencion = EventoFinAtencion(evento_inicio=evento, #evento_inicio es el evento arribo relacionado al evento Fin de atencion\n",
    "                                                                nombre=\"FIN_ATENCION\", \n",
    "                                                                objeto=surtidor, \n",
    "                                                                _id=f\"{prefijo}-F{k}\",\n",
    "                                                                arribo=reloj_simulacion, \n",
    "                                                                duracion=surtidor.tiempoAtencion) \n",
    "                        fel = agregarEvento(fel, evento_fin_atencion)\n",
    "                        demora = abs(evento.arribo - evento_fin_atencion.duracion) #calculamos la demora en atender a este camion.\n",
    "                        demora_promedio_corrida.append(demora)\n",
    "                        #evento.objeto.tiempoInicioAtencion = reloj_simulacion # como fue atendido, seteamos este atributo al camion.    \n",
    "\n",
    "                \n",
    "                if evento.nombre == \"FIN_ATENCION\":\n",
    "                    evento.objeto.marcarLibre()\n",
    "                    #evento.objeto.actualizarPorcentajeOcupacion()\n",
    "                    evento_inicio = evento.evento_inicio #evento_inicio sirve para quitar ambos eventos (arribo y espera) de la FEL\n",
    "                    fel = removerEvento(fel, evento_inicio)\n",
    "               \n",
    "                fel = removerEvento(fel, evento)\n",
    "                k += 1\n",
    "                if k >= len(fel):\n",
    "                    if len(fel) > 0: # siguen habiendo eventos por procesar, reseteamos k.\n",
    "                        k = 0 \n",
    "                    else:\n",
    "                        break\n",
    "            ocupacion_surtidores[contador] = calcularOcupacionSurtidores(lista_surtidores)\n",
    "\n",
    "        demoras_promedio_experimento.append(np.mean(demora_promedio_corrida))     \n",
    "    return demoras_promedio_experimento, ocupacion_surtidores"
   ]
  },
  {
   "cell_type": "code",
   "execution_count": 588,
   "metadata": {},
   "outputs": [],
   "source": [
    "#import datetime\n",
    "#print(datetime.datetime.now().time())\n",
    "demoras_promedio_experimento, ocupacion_surtidores = simulacion(experimentos=60, corridas=100, camiones=(24*60), surtidores=4)\n",
    "#print(datetime.datetime.now().time())"
   ]
  },
  {
   "cell_type": "markdown",
   "metadata": {},
   "source": [
    "### Demora Promedio de los camiones"
   ]
  },
  {
   "cell_type": "code",
   "execution_count": 589,
   "metadata": {},
   "outputs": [
    {
     "name": "stdout",
     "output_type": "stream",
     "text": [
      "Demora promedio 13.50\n"
     ]
    }
   ],
   "source": [
    "print(f\"Demora promedio {np.mean(demoras_promedio_experimento):.2f}\")"
   ]
  },
  {
   "cell_type": "markdown",
   "metadata": {},
   "source": [
    "### Intervalo de confianza con un nivel de confiabilidad del 99%."
   ]
  },
  {
   "cell_type": "code",
   "execution_count": 590,
   "metadata": {},
   "outputs": [
    {
     "data": {
      "text/plain": [
       "(13.316653482529242, 13.673770376068417)"
      ]
     },
     "execution_count": 590,
     "metadata": {},
     "output_type": "execute_result"
    }
   ],
   "source": [
    "intervalo_confianza(demoras_promedio_experimento)"
   ]
  },
  {
   "cell_type": "markdown",
   "metadata": {},
   "source": [
    "### Histograma de la simulación (tiempos promedio por cada experimento)."
   ]
  },
  {
   "cell_type": "code",
   "execution_count": 591,
   "metadata": {},
   "outputs": [
    {
     "data": {
      "image/png": "[encoded data removed]",
      "text/plain": [
       "<Figure size 432x288 with 1 Axes>"
      ]
     },
     "metadata": {
      "needs_background": "light"
     },
     "output_type": "display_data"
    }
   ],
   "source": [
    "grafico = sb.distplot(demoras_promedio_experimento)"
   ]
  },
  {
   "cell_type": "markdown",
   "metadata": {},
   "source": [
    "### Grafico de barras con tiempos de espera para todos los experimentos"
   ]
  },
  {
   "cell_type": "code",
   "execution_count": 592,
   "metadata": {},
   "outputs": [
    {
     "data": {
      "image/png": "[encoded data removed]",
      "text/plain": [
       "<Figure size 432x288 with 1 Axes>"
      ]
     },
     "metadata": {
      "needs_background": "light"
     },
     "output_type": "display_data"
    }
   ],
   "source": [
    "lista = [x for x in range(len(demoras_promedio_experimento))]\n",
    "ax = sb.barplot(x=lista, y=demoras_promedio_experimento)"
   ]
  },
  {
   "cell_type": "markdown",
   "metadata": {},
   "source": [
    "### Calcule el porcentaje de tiempo de ocupación de cada surtidor."
   ]
  },
  {
   "cell_type": "code",
   "execution_count": 593,
   "metadata": {
    "scrolled": true
   },
   "outputs": [
    {
     "name": "stdout",
     "output_type": "stream",
     "text": [
      "Ocupacion surtidor 1\n",
      "12.2%\n",
      "Ocupacion surtidor 2\n",
      "10.97%\n",
      "Ocupacion surtidor 3\n",
      "9.04%\n",
      "Ocupacion surtidor 4\n",
      "9.09%\n"
     ]
    }
   ],
   "source": [
    "ocupacion_surtidor1 = 0\n",
    "ocupacion_surtidor2 = 0\n",
    "ocupacion_surtidor3 = 0\n",
    "ocupacion_surtidor4 = 0\n",
    "cantidad_corridas = 60 * 100 * 60 * 24\n",
    "\n",
    "for k,v in ocupacion_surtidores.items():\n",
    "    ocupacion_surtidor1 = v[0] + ocupacion_surtidor1 \n",
    "    ocupacion_surtidor2 = v[1] + ocupacion_surtidor2 \n",
    "    ocupacion_surtidor3 = v[2] + ocupacion_surtidor3 \n",
    "    ocupacion_surtidor4 = v[3] + ocupacion_surtidor4 \n",
    "\n",
    "print(\"Ocupacion surtidor 1\")\n",
    "print(str(round(((ocupacion_surtidor1*100)/cantidad_corridas),2))+\"%\")\n",
    "print(\"Ocupacion surtidor 2\")\n",
    "print(str(round(((ocupacion_surtidor2*100)/cantidad_corridas),2))+\"%\")\n",
    "print(\"Ocupacion surtidor 3\")\n",
    "print(str(round(((ocupacion_surtidor3*100)/cantidad_corridas),2))+\"%\")\n",
    "print(\"Ocupacion surtidor 4\")\n",
    "print(str(round(((ocupacion_surtidor4*100)/cantidad_corridas),2))+\"%\")"
   ]
  },
  {
   "cell_type": "markdown",
   "metadata": {},
   "source": [
    "### Realice la simulación pero esta vez, añadiendo un nuevo surtidor cuyo empleado tenga una capacidad de atención Normal (media = 19 min, desvío = 5 min.) y analice los resultados. ¿Los camiones pasan menos tiempo en espera?"
   ]
  },
  {
   "cell_type": "code",
   "execution_count": 594,
   "metadata": {
    "scrolled": true
   },
   "outputs": [],
   "source": [
    "demoras_promedio_experimento, ocupacion_surtidores = simulacion(experimentos=60, corridas=100, camiones=(24*60), surtidores=5)"
   ]
  },
  {
   "cell_type": "markdown",
   "metadata": {},
   "source": [
    "### Resultado con un 5to surtidor agregado"
   ]
  },
  {
   "cell_type": "markdown",
   "metadata": {},
   "source": [
    "### Demora Promedio de los camiones"
   ]
  },
  {
   "cell_type": "code",
   "execution_count": 595,
   "metadata": {},
   "outputs": [
    {
     "name": "stdout",
     "output_type": "stream",
     "text": [
      "Demora promedio 12.79\n"
     ]
    }
   ],
   "source": [
    "print(f\"Demora promedio {np.mean(demoras_promedio_experimento):.2f}\")"
   ]
  },
  {
   "cell_type": "code",
   "execution_count": 596,
   "metadata": {},
   "outputs": [
    {
     "data": {
      "image/png": "[encoded data removed]",
      "text/plain": [
       "<Figure size 432x288 with 1 Axes>"
      ]
     },
     "metadata": {
      "needs_background": "light"
     },
     "output_type": "display_data"
    }
   ],
   "source": [
    "lista = [x for x in range(len(demoras_promedio_experimento))]\n",
    "ax = sb.barplot(x=lista, y=demoras_promedio_experimento)"
   ]
  },
  {
   "cell_type": "markdown",
   "metadata": {},
   "source": [
    "Este resultado me indica que el promedio de espera de los camiones es menor que en la situacion anterior en la que tenia solo 4 surtidores disponibles."
   ]
  },
  {
   "cell_type": "markdown",
   "metadata": {},
   "source": [
    "### Calcule la cantidad necesaria de surtidores y sus características de atención*, para disminuir el tiempo de espera en un 30%."
   ]
  },
  {
   "cell_type": "markdown",
   "metadata": {},
   "source": [
    "Tomando en cuenta que el tiempo de espera de los clientes en promedio es de 3748.64 reducirlo en un 30%\n",
    "implicaria que el promedio de espera queda en un valor aproximado de 2624.048. Realizando una regla de 3 si\n",
    "con 4 maquinas obtengo un promedio de 3748.64 entonces necesitaria aproximadamente 4 maquinas mas."
   ]
  },
  {
   "cell_type": "code",
   "execution_count": null,
   "metadata": {},
   "outputs": [],
   "source": []
  }
 ],
 "metadata": {
  "kernelspec": {
   "display_name": "Python 3",
   "language": "python",
   "name": "python3"
  },
  "language_info": {
   "codemirror_mode": {
    "name": "ipython",
    "version": 3
   },
   "file_extension": ".py",
   "mimetype": "text/x-python",
   "name": "python",
   "nbconvert_exporter": "python",
   "pygments_lexer": "ipython3",
   "version": "3.6.9"
  }
 },
 "nbformat": 4,
 "nbformat_minor": 2
}
