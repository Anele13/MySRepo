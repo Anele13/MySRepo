{
 "cells": [
  {
   "cell_type": "code",
   "execution_count": 60,
   "metadata": {},
   "outputs": [],
   "source": [
    "import numpy as np\n",
    "import seaborn as sb"
   ]
  },
  {
   "cell_type": "code",
   "execution_count": 61,
   "metadata": {},
   "outputs": [],
   "source": [
    "class Empleado():\n",
    "    \"\"\"\n",
    "    Modela una actividad dentro del modelo de simulacion\n",
    "    con una descripcion, una duracion minima, una duracion maxima\n",
    "    y una duracion real establecida por una distribucion uniforme.\n",
    "    \"\"\"\n",
    "    def __init__(self, tipo):\n",
    "        if tipo == 1:\n",
    "            self.nombre = \"Empleado tipo 2\"\n",
    "            self.tiempoAtencion = np.random.normal(18,4) #Normal de media 18 minutos y Desv.est. de 4 minutos.\n",
    "        elif tipo == 2:\n",
    "            self.nombre = \"Empleado tipo 2\"\n",
    "            self.tiempoAtencion = np.random.exponential(15) #Exponencial con tiempo promedio de 15 minutos. \n",
    "        elif tipo == 3:\n",
    "            self.nombre = \"Empleado tipo 2\"\n",
    "            self.tiempoAtencion = np.random.exponential(16) #Exponencial con promedio de 16 minutos.\n",
    "        else:\n",
    "            self.nombre = \"Empleado tipo 2\"\n",
    "            self.tiempoAtencion = np.random.normal(14,3) #Normal de media 14 minutos y desv.est. de 3 minutos.\n",
    "            \n"
   ]
  },
  {
   "cell_type": "code",
   "execution_count": 66,
   "metadata": {},
   "outputs": [],
   "source": [
    "class Camion():\n",
    "    def __init__(self, id_camion):\n",
    "        self.id = id_camion\n",
    "        self.tiempoLlegada = np.random.exponential(15)"
   ]
  },
  {
   "cell_type": "code",
   "execution_count": 67,
   "metadata": {},
   "outputs": [],
   "source": [
    "class Surtidor():\n",
    "    def __init__(self, tipo):\n",
    "        self.ocupado = False\n",
    "        self.tiempoAtencion = Empleado(tipo).tiempoAtencion\n",
    "        \n",
    "    def marcarLibre(self):\n",
    "        self.ocupado = False\n",
    "    \n",
    "    def marcarOcupado(self):\n",
    "        self.ocupado = True"
   ]
  },
  {
   "cell_type": "code",
   "execution_count": 68,
   "metadata": {},
   "outputs": [],
   "source": [
    "class Evento():\n",
    "    \"\"\"\n",
    "    nombre = puede ser ARRIBO_CAMION, FIN_ATENCION\n",
    "    objeto = puede ser un Camion o un Surtidor\n",
    "    duracion = duracion del evento\n",
    "    \"\"\"\n",
    "    def __init__(self, nombre,objeto, duracion):\n",
    "        self.nombre = nombre\n",
    "        self.duracion = duracion\n",
    "        self.objeto = objeto     "
   ]
  },
  {
   "cell_type": "code",
   "execution_count": 70,
   "metadata": {},
   "outputs": [],
   "source": [
    "def inicializarModelo():\n",
    "    fel = []\n",
    "    lista_surtidores = []\n",
    "    cantidad = 24 #24 horas\n",
    "    \n",
    "    for id_camion in range(cantidad): \n",
    "        camion = Camion(id_camion)\n",
    "        fel.append(Evento(\"ARRIBO_CAMION\",camion, camion.tiempoLlegada))\n",
    "    \n",
    "    for i in range(1,5):\n",
    "        lista_surtidores.append(Surtidor(i))\n",
    "        \n",
    "    return fel, lista_surtidores    "
   ]
  },
  {
   "cell_type": "code",
   "execution_count": 71,
   "metadata": {},
   "outputs": [],
   "source": [
    "def haySurtidorLibre(lista_surtidores):\n",
    "    return any(surtidor.ocupado  for surtidor in lista_surtidores)"
   ]
  },
  {
   "cell_type": "code",
   "execution_count": 74,
   "metadata": {},
   "outputs": [],
   "source": [
    "def getSurtidorLibre(lista_surtidores):\n",
    "    for surtidor in lista_surtidores:\n",
    "        if (not surtidor.ocupado):\n",
    "            return surtidor"
   ]
  },
  {
   "cell_type": "code",
   "execution_count": null,
   "metadata": {},
   "outputs": [],
   "source": [
    "def removerEvento(fel): #remueve el siguiente evento de la FEL\n",
    "    pass"
   ]
  },
  {
   "cell_type": "code",
   "execution_count": null,
   "metadata": {},
   "outputs": [],
   "source": [
    "def agregarEvento(fel): #agrega un nuevo evento y ordena la FEL\n",
    "    pass\n",
    "    "
   ]
  },
  {
   "cell_type": "code",
   "execution_count": 52,
   "metadata": {},
   "outputs": [],
   "source": [
    "cant_experimentos = 60\n",
    "cant_corridas = 100\n",
    "tiempo_simulacion = 0 \n",
    "fel,lista_surtidores = inicializarModelo()\n",
    "lista_promedio_atencion = []\n",
    "\n",
    "for i in range(cant_experimentos):\n",
    "    for j in range(cant_corridas):\n",
    "        for evento in fel:\n",
    "            reloj_simulacion = reloj_simulacion + evento.duracion\n",
    "            if (evento.nombre == \"ARRIBO_CAMION\")\n",
    "                if hay_surtidor_libre(lista_surtidores):\n",
    "                    surtidor = getSurtidorLibre(lista_surtidores)\n",
    "                    surtidor.marcarOcupado()\n",
    "                    evento_fin = Evento(\"FIN_ATENCION\",surtidor, surtidor.tiempoAtencion)\n",
    "                    agregarEvento(evento)\n",
    "                    tiempoAtencionCamion = evento_fin.duracion - evento.duracion\n",
    "                    lista_promedio_atencion.append(tiempoAtencionCamion)\n",
    "                else:\n",
    "                    \n",
    "            elif (evento.nombre == \"FIN_ATENCION\"):\n",
    "                evento.objeto.marcarLibre()\n"
   ]
  },
  {
   "cell_type": "code",
   "execution_count": null,
   "metadata": {},
   "outputs": [],
   "source": []
  },
  {
   "cell_type": "code",
   "execution_count": null,
   "metadata": {},
   "outputs": [],
   "source": []
  },
  {
   "cell_type": "code",
   "execution_count": null,
   "metadata": {},
   "outputs": [],
   "source": []
  }
 ],
 "metadata": {
  "kernelspec": {
   "display_name": "Python 3",
   "language": "python",
   "name": "python3"
  },
  "language_info": {
   "codemirror_mode": {
    "name": "ipython",
    "version": 3
   },
   "file_extension": ".py",
   "mimetype": "text/x-python",
   "name": "python",
   "nbconvert_exporter": "python",
   "pygments_lexer": "ipython3",
   "version": "3.6.9"
  }
 },
 "nbformat": 4,
 "nbformat_minor": 2
}
