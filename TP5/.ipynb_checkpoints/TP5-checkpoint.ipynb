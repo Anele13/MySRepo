{
 "cells": [
  {
   "cell_type": "markdown",
   "metadata": {},
   "source": [
    "### Punto C\n",
    "\n",
    "Simule 30 experimentos de 100 corridas cada una y calcule:\n",
    "\n",
    "- El tiempo promedio de finalización del proyecto y el IC. Con el 99% de probabilidad (2,57).\n",
    "- Calcule el porcentaje de criticidad tienen los diferentes accesos.\n",
    "- Grafique un histograma con la distribución del tiempo de realización del proyecto con los datos de las 3000 corridas. Y otro teniendo en cuenta los promedios de los 30 experimentos.\n"
   ]
  },
  {
   "cell_type": "code",
   "execution_count": 2,
   "metadata": {},
   "outputs": [],
   "source": [
    "import numpy as np\n",
    "import seaborn as sns"
   ]
  },
  {
   "cell_type": "code",
   "execution_count": 3,
   "metadata": {},
   "outputs": [],
   "source": [
    "class Actividad():\n",
    "    \"\"\"\n",
    "    Modela una actividad dentro del modelo de simulacion\n",
    "    con una descripcion, una duracion minima, una duracion maxima\n",
    "    y una duracion real establecida por una distribucion uniforme.\n",
    "    \"\"\"\n",
    "    def __init__(self, nombre, duracionMin, duracionMax):\n",
    "        self.nombre = nombre\n",
    "        self.duracion_minima = duracionMin\n",
    "        self.duracion_maxima = duracionMax\n",
    "    \n",
    "    def getDuracionEstimada(self):\n",
    "        return round(np.random.uniform(self.duracion_minima, self.duracion_maxima))"
   ]
  },
  {
   "cell_type": "code",
   "execution_count": 14,
   "metadata": {},
   "outputs": [],
   "source": [
    "class Acceso():\n",
    "    \"\"\"\n",
    "    Esta clase representa un conjunto de actividades agrupadas.\n",
    "    Dependiendo el tipo de acceso se crean una cantidad de actividades acorde\n",
    "    \"\"\"\n",
    "    def __init__(self,tipo, ejercicio):\n",
    "        self.lista_actividades = []\n",
    "        self.nombre = \"\"\n",
    "        if tipo == 'Superior':\n",
    "            self.nombre = 'Superior'\n",
    "            if ejercicio == 1:\n",
    "                #Actividades A,B,C y D\n",
    "                self.lista_actividades.append(Actividad('Romper huevos', 2, 4))\n",
    "                self.lista_actividades.append(Actividad('Revolver huevos', 3, 6))\n",
    "                self.lista_actividades.append(Actividad('Cocinar huevos', 2, 5))\n",
    "                self.lista_actividades.append(Actividad('Cortar panes', 3, 6))\n",
    "            else:\n",
    "                #Actividades A,B,C \n",
    "                self.lista_actividades.append(Actividad('Retirar alfombras', 1,5))\n",
    "                self.lista_actividades.append(Actividad('Aplicar detergente', 1,3))\n",
    "                self.lista_actividades.append(Actividad('Enjuagar alfombras', 1,3))\n",
    "       \n",
    "        elif tipo == 'Medio':\n",
    "            self.nombre = 'Medio'\n",
    "            #Actividades D y E\n",
    "            if ejercicio == 1:\n",
    "                self.lista_actividades.append(Actividad('Cortar panes', 3, 6))\n",
    "                self.lista_actividades.append(Actividad('Preparar tostadas', 2, 5))\n",
    "            else:\n",
    "                #A D E F\n",
    "                self.lista_actividades.append(Actividad('Retirar alfombras', 1,5))\n",
    "                self.lista_actividades.append(Actividad('Mojar vehículo',1, 6))\n",
    "                self.lista_actividades.append(Actividad('Aplicar detergente', 6,12))\n",
    "                self.lista_actividades.append(Actividad('Enjuagar vehículo', 5,10))\n",
    "\n",
    "        else:\n",
    "            self.nombre = 'Inferior'\n",
    "            if ejercicio == 1:\n",
    "                #Inferior. Involucra las actividades F y G\n",
    "                self.lista_actividades.append(Actividad('Preparar bebidas calientes (té, café)', 4, 8))\n",
    "                self.lista_actividades.append(Actividad('Preparar bebidas frías (jugos, yogur)', 3, 7))\n",
    "            else:\n",
    "                #F y G\n",
    "                self.lista_actividades.append(Actividad('Enjuagar vehículo', 5,10))\n",
    "                self.lista_actividades.append(Actividad('Aspirar interiores', 10,15))\n",
    "                \n",
    "            \n",
    "    def getDuracionAcceso(self):\n",
    "        return sum(actividad.getDuracionEstimada() for actividad in self.lista_actividades)"
   ]
  },
  {
   "cell_type": "code",
   "execution_count": 15,
   "metadata": {},
   "outputs": [],
   "source": [
    "class Proyecto():\n",
    "    \"\"\"\n",
    "    Modela un proyecto con 3 accesos\n",
    "    \"\"\"\n",
    "    def __init__(self):\n",
    "        self.lista_accesos = []\n",
    "        self.lista_accesos.append(Acceso('Superior'))\n",
    "        self.lista_accesos.append(Acceso('Medio'))\n",
    "        self.lista_accesos.append(Acceso('Inferior'))\n",
    "    \n",
    "    def getDuracionProyecto(self):\n",
    "        return sum(acceso.getDuracionAcceso() for acceso in self.lista_accesos)\n",
    "        \n",
    "    def getCaminoCriticoProyecto(self):\n",
    "        return None #Falta implementar"
   ]
  },
  {
   "cell_type": "code",
   "execution_count": 16,
   "metadata": {},
   "outputs": [],
   "source": [
    "def intervalo_confianza(duraciones_totales):\n",
    "    media = np.mean(duraciones_totales)\n",
    "    valor_z = 2.57\n",
    "    desvio = np.std(duraciones_totales)\n",
    "    n = len(duraciones_totales)\n",
    "    \n",
    "    ext_inferior = media - (valor_z * (desvio/(n ** 0.5)))\n",
    "    ext_superior = media + (valor_z * (desvio/(n ** 0.5)))\n",
    "    return ext_inferior, ext_superior"
   ]
  },
  {
   "cell_type": "code",
   "execution_count": null,
   "metadata": {},
   "outputs": [],
   "source": [
    "def camino_critico(proyecto):\n",
    "    \"\"\"\n",
    "    Devuelve un numero indicando cual fue el camino critico para esa ejecucion del proyecto\n",
    "    0 si el camino critico fue el de acceso superior.\n",
    "    1 si el camino critico fue el de acceso medio.\n",
    "    2 si el camino critico fue el de acceso inferior.\n",
    "    \"\"\"\n",
    "    respuesta = 0\n",
    "    duracion_camino_superior = sum(proyecto.lista_accesos[0])\n",
    "    "
   ]
  },
  {
   "cell_type": "code",
   "execution_count": 7,
   "metadata": {},
   "outputs": [],
   "source": [
    "cant_experimentos = 30\n",
    "cant_corridas = 100\n",
    "duracion_promedio_por_experimento = 0\n",
    "duraciones_totales = [] \n",
    "duraciones_promedio_por_experimento = []\n",
    "contador_caminos_criticos = {\n",
    "    0:0\n",
    "    1:0\n",
    "    2:0\n",
    "}\n",
    "for i in range(cant_experimentos):\n",
    "    duracion_promedio_por_experimento = 0\n",
    "    for j in range(cant_corridas):\n",
    "        p = Proyecto()\n",
    "        duraciones_totales.append(p.getDuracionProyecto()) \n",
    "        duracion_promedio_por_experimento += p.getDuracionProyecto()\n",
    "        cc = camino_critico(proyecto)\n",
    "        contador_caminos_criticos[cc] = contador_caminos_criticos[cc] + 1\n",
    "    duraciones_promedio_por_experimento.append(duracion_promedio_por_experimento)"
   ]
  },
  {
   "cell_type": "code",
   "execution_count": null,
   "metadata": {},
   "outputs": [],
   "source": []
  },
  {
   "cell_type": "markdown",
   "metadata": {},
   "source": [
    "### RESPUESTAS"
   ]
  },
  {
   "cell_type": "markdown",
   "metadata": {},
   "source": [
    "**Tiempo promedio de finalizacion del proyecto luego de 30 experimentos con 100 corridas**"
   ]
  },
  {
   "cell_type": "code",
   "execution_count": 8,
   "metadata": {},
   "outputs": [
    {
     "data": {
      "text/plain": [
       "34.544666666666664"
      ]
     },
     "execution_count": 8,
     "metadata": {},
     "output_type": "execute_result"
    }
   ],
   "source": [
    "sum(duracion for duracion in duraciones_totales)/3000"
   ]
  },
  {
   "cell_type": "markdown",
   "metadata": {},
   "source": [
    "**Intervalo de Confianza luego de 30 experimentos con 100 corridas**"
   ]
  },
  {
   "cell_type": "code",
   "execution_count": 9,
   "metadata": {},
   "outputs": [
    {
     "data": {
      "text/plain": [
       "(34.41032009681761, 34.67901323651572)"
      ]
     },
     "execution_count": 9,
     "metadata": {},
     "output_type": "execute_result"
    }
   ],
   "source": [
    "intervalo_confianza(duraciones_totales)"
   ]
  },
  {
   "cell_type": "markdown",
   "metadata": {},
   "source": [
    "**Porcentaje de Criticidades**"
   ]
  },
  {
   "cell_type": "code",
   "execution_count": 10,
   "metadata": {},
   "outputs": [],
   "source": [
    "#FALTA"
   ]
  },
  {
   "cell_type": "markdown",
   "metadata": {},
   "source": [
    "**Histograma con la distribución del tiempo de realización del proyecto con los datos de las 3000 corridas**"
   ]
  },
  {
   "cell_type": "code",
   "execution_count": 11,
   "metadata": {},
   "outputs": [
    {
     "data": {
      "text/plain": [
       "<matplotlib.axes._subplots.AxesSubplot at 0x7f26dd4230f0>"
      ]
     },
     "execution_count": 11,
     "metadata": {},
     "output_type": "execute_result"
    },
    {
     "data": {
      "image/png": "[encoded data removed]",
      "text/plain": [
       "<Figure size 432x288 with 1 Axes>"
      ]
     },
     "metadata": {
      "needs_background": "light"
     },
     "output_type": "display_data"
    }
   ],
   "source": [
    "sns.distplot(duraciones_totales)"
   ]
  },
  {
   "cell_type": "markdown",
   "metadata": {},
   "source": [
    "**Histograma con los promedios de los 30 experimentos**"
   ]
  },
  {
   "cell_type": "code",
   "execution_count": 12,
   "metadata": {},
   "outputs": [
    {
     "data": {
      "text/plain": [
       "<matplotlib.axes._subplots.AxesSubplot at 0x7f26dd411358>"
      ]
     },
     "execution_count": 12,
     "metadata": {},
     "output_type": "execute_result"
    },
    {
     "data": {
      "image/png": "[encoded data removed]",
      "text/plain": [
       "<Figure size 432x288 with 1 Axes>"
      ]
     },
     "metadata": {
      "needs_background": "light"
     },
     "output_type": "display_data"
    }
   ],
   "source": [
    "sns.distplot(duraciones_promedio_por_experimento)"
   ]
  },
  {
   "cell_type": "code",
   "execution_count": null,
   "metadata": {},
   "outputs": [],
   "source": []
  }
 ],
 "metadata": {
  "kernelspec": {
   "display_name": "Python 3",
   "language": "python",
   "name": "python3"
  },
  "language_info": {
   "codemirror_mode": {
    "name": "ipython",
    "version": 3
   },
   "file_extension": ".py",
   "mimetype": "text/x-python",
   "name": "python",
   "nbconvert_exporter": "python",
   "pygments_lexer": "ipython3",
   "version": "3.6.9"
  }
 },
 "nbformat": 4,
 "nbformat_minor": 2
}
